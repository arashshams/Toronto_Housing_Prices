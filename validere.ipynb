{
 "cells": [
  {
   "cell_type": "markdown",
   "id": "787d47a6",
   "metadata": {},
   "source": [
    "# Validere Take-Home Assignment"
   ]
  },
  {
   "cell_type": "markdown",
   "id": "3d809298",
   "metadata": {},
   "source": [
    "## October 20, 2021"
   ]
  },
  {
   "cell_type": "markdown",
   "id": "27890816",
   "metadata": {},
   "source": [
    "## Author: Arash Shamseddini"
   ]
  },
  {
   "cell_type": "markdown",
   "id": "61b6d00c",
   "metadata": {},
   "source": [
    "### Thank you Validere team for giving me the opportunity 🙏"
   ]
  },
  {
   "cell_type": "markdown",
   "id": "28504962",
   "metadata": {},
   "source": [
    "### Let's get down to business 🚀"
   ]
  },
  {
   "cell_type": "markdown",
   "id": "20e1e174",
   "metadata": {},
   "source": [
    "For this assignment, I have chosen to answer the first question as shown below:"
   ]
  },
  {
   "cell_type": "markdown",
   "id": "f7864b83",
   "metadata": {},
   "source": [
    "![Question](images/Q.png)"
   ]
  },
  {
   "cell_type": "markdown",
   "id": "1b716261",
   "metadata": {},
   "source": [
    "### 1- Introduction"
   ]
  },
  {
   "cell_type": "markdown",
   "id": "ae20ad44",
   "metadata": {},
   "source": [
    "This question is challenging in a sense that there are a lot of controversy going on around the subject of \"Housing Prices\" in Canada  and most especially in **Toronto**."
   ]
  },
  {
   "cell_type": "markdown",
   "id": "563bff34",
   "metadata": {},
   "source": [
    "As pointed out in an article by [Thais R](https://newcanadianlife.com/why-is-housing-so-expensive-in-toronto/), \"*Toronto seems to be turning into major world cities, and in turn, people are willing to pay extremely high prices to live in these hubs, just like in the American cities mentioned earlier*\"."
   ]
  },
  {
   "cell_type": "markdown",
   "id": "e35c6958",
   "metadata": {},
   "source": [
    "As [Mark Rosanes](https://www.mpamag.com/ca/mortgage-industry/industry-trends/whats-driving-up-real-estate-prices-in-toronto/287415) discusses in his post, these high prices in City of Toronto stem from a number of reasons including but not limited to:\n",
    "- Supply and Demand Imbalance\n",
    "- Taxes and development charges\n",
    "- Foreign buyers\n",
    "- Low interest rates"
   ]
  },
  {
   "cell_type": "markdown",
   "id": "8bd700e9",
   "metadata": {},
   "source": [
    "In this analysis, I have studied the effects of some of these factors on the housing price in the **City of Toronto**."
   ]
  },
  {
   "cell_type": "markdown",
   "id": "a6eeaddf",
   "metadata": {},
   "source": [
    "**Note:** I have limited my study to the **[City of Toronto](https://en.wikipedia.org/wiki/Toronto)** and not **[Greater Toronto Area](https://en.wikipedia.org/wiki/Greater_Toronto_Area)** (aka GTA). Therefore, any future reference to the name \"Toronto\" is associated with the **City of Toronto**. \n",
    "\n",
    "Below map, indicates both areas."
   ]
  },
  {
   "cell_type": "markdown",
   "id": "422a7ee1",
   "metadata": {},
   "source": [
    "![Question](images/toronto.png)"
   ]
  },
  {
   "cell_type": "markdown",
   "id": "4456d534",
   "metadata": {},
   "source": [
    "**Note:** In this report I, as a private citizen, have used open-source data available to the public and made proper references where necessary. Findings of the reports have also been validated by making reference to literature."
   ]
  },
  {
   "cell_type": "code",
   "execution_count": 153,
   "id": "89f0432f",
   "metadata": {},
   "outputs": [],
   "source": [
    "# Necessary Imports\n",
    "import numpy as np\n",
    "import pandas as pd\n",
    "import altair as alt\n",
    "import matplotlib as mpl\n",
    "import matplotlib.pyplot as plt\n",
    "\n",
    "from sklearn.linear_model import LinearRegression, Ridge, RidgeCV\n",
    "from sklearn.metrics import mean_squared_error, r2_score, make_scorer"
   ]
  },
  {
   "cell_type": "markdown",
   "id": "2f8977a8",
   "metadata": {},
   "source": [
    "### 2-Overview of the Current Situation"
   ]
  },
  {
   "cell_type": "markdown",
   "id": "5566b0cf",
   "metadata": {},
   "source": [
    "In order to better understand the current situation with the housing market in Toronto, I have defined **Unaffordability Ratio** (i.e. price-to-income ratio) as below:\n"
   ]
  },
  {
   "cell_type": "markdown",
   "id": "6be8c849",
   "metadata": {},
   "source": [
    "$$\\text{Unaffordability Ratio} = \\frac{\\text{Average Sales Price}}{\\text{Family Median Income}} $$"
   ]
  },
  {
   "cell_type": "markdown",
   "id": "296180bd",
   "metadata": {},
   "source": [
    "I have made use of Statistics Canada data for **Family Median Income** (available [here](https://www150.statcan.gc.ca/t1/tbl1/en/tv.action?pid=1110001701)) and Toronto Regional Real Estate Board (available [here](https://trreb.ca/files/market-stats/market-watch/historic.pdf)) for **Average Sales Price** over the past two decades."
   ]
  },
  {
   "cell_type": "code",
   "execution_count": 4,
   "id": "89447440",
   "metadata": {},
   "outputs": [
    {
     "data": {
      "text/html": [
       "<div>\n",
       "<style scoped>\n",
       "    .dataframe tbody tr th:only-of-type {\n",
       "        vertical-align: middle;\n",
       "    }\n",
       "\n",
       "    .dataframe tbody tr th {\n",
       "        vertical-align: top;\n",
       "    }\n",
       "\n",
       "    .dataframe thead th {\n",
       "        text-align: right;\n",
       "    }\n",
       "</style>\n",
       "<table border=\"1\" class=\"dataframe\">\n",
       "  <thead>\n",
       "    <tr style=\"text-align: right;\">\n",
       "      <th></th>\n",
       "      <th>year</th>\n",
       "      <th>median_total_income</th>\n",
       "      <th>avg_sales_price</th>\n",
       "      <th>unaffordability_ratio</th>\n",
       "    </tr>\n",
       "  </thead>\n",
       "  <tbody>\n",
       "    <tr>\n",
       "      <th>0</th>\n",
       "      <td>2001</td>\n",
       "      <td>57900</td>\n",
       "      <td>251508</td>\n",
       "      <td>4.343834</td>\n",
       "    </tr>\n",
       "    <tr>\n",
       "      <th>1</th>\n",
       "      <td>2002</td>\n",
       "      <td>58200</td>\n",
       "      <td>275231</td>\n",
       "      <td>4.729055</td>\n",
       "    </tr>\n",
       "    <tr>\n",
       "      <th>2</th>\n",
       "      <td>2003</td>\n",
       "      <td>58500</td>\n",
       "      <td>293061</td>\n",
       "      <td>5.009590</td>\n",
       "    </tr>\n",
       "    <tr>\n",
       "      <th>3</th>\n",
       "      <td>2004</td>\n",
       "      <td>60100</td>\n",
       "      <td>315231</td>\n",
       "      <td>5.245108</td>\n",
       "    </tr>\n",
       "    <tr>\n",
       "      <th>4</th>\n",
       "      <td>2005</td>\n",
       "      <td>61800</td>\n",
       "      <td>335907</td>\n",
       "      <td>5.435388</td>\n",
       "    </tr>\n",
       "    <tr>\n",
       "      <th>5</th>\n",
       "      <td>2006</td>\n",
       "      <td>63800</td>\n",
       "      <td>351941</td>\n",
       "      <td>5.516317</td>\n",
       "    </tr>\n",
       "    <tr>\n",
       "      <th>6</th>\n",
       "      <td>2007</td>\n",
       "      <td>66560</td>\n",
       "      <td>376236</td>\n",
       "      <td>5.652584</td>\n",
       "    </tr>\n",
       "    <tr>\n",
       "      <th>7</th>\n",
       "      <td>2008</td>\n",
       "      <td>68120</td>\n",
       "      <td>379080</td>\n",
       "      <td>5.564885</td>\n",
       "    </tr>\n",
       "    <tr>\n",
       "      <th>8</th>\n",
       "      <td>2009</td>\n",
       "      <td>66790</td>\n",
       "      <td>395234</td>\n",
       "      <td>5.917563</td>\n",
       "    </tr>\n",
       "    <tr>\n",
       "      <th>9</th>\n",
       "      <td>2010</td>\n",
       "      <td>68110</td>\n",
       "      <td>431262</td>\n",
       "      <td>6.331846</td>\n",
       "    </tr>\n",
       "    <tr>\n",
       "      <th>10</th>\n",
       "      <td>2011</td>\n",
       "      <td>69740</td>\n",
       "      <td>464989</td>\n",
       "      <td>6.667465</td>\n",
       "    </tr>\n",
       "    <tr>\n",
       "      <th>11</th>\n",
       "      <td>2012</td>\n",
       "      <td>71210</td>\n",
       "      <td>497073</td>\n",
       "      <td>6.980382</td>\n",
       "    </tr>\n",
       "    <tr>\n",
       "      <th>12</th>\n",
       "      <td>2013</td>\n",
       "      <td>72830</td>\n",
       "      <td>522951</td>\n",
       "      <td>7.180434</td>\n",
       "    </tr>\n",
       "    <tr>\n",
       "      <th>13</th>\n",
       "      <td>2014</td>\n",
       "      <td>75270</td>\n",
       "      <td>566611</td>\n",
       "      <td>7.527714</td>\n",
       "    </tr>\n",
       "    <tr>\n",
       "      <th>14</th>\n",
       "      <td>2015</td>\n",
       "      <td>78280</td>\n",
       "      <td>622116</td>\n",
       "      <td>7.947317</td>\n",
       "    </tr>\n",
       "    <tr>\n",
       "      <th>15</th>\n",
       "      <td>2016</td>\n",
       "      <td>80310</td>\n",
       "      <td>729824</td>\n",
       "      <td>9.087586</td>\n",
       "    </tr>\n",
       "    <tr>\n",
       "      <th>16</th>\n",
       "      <td>2017</td>\n",
       "      <td>83020</td>\n",
       "      <td>822510</td>\n",
       "      <td>9.907372</td>\n",
       "    </tr>\n",
       "    <tr>\n",
       "      <th>17</th>\n",
       "      <td>2018</td>\n",
       "      <td>86670</td>\n",
       "      <td>787842</td>\n",
       "      <td>9.090135</td>\n",
       "    </tr>\n",
       "    <tr>\n",
       "      <th>18</th>\n",
       "      <td>2019</td>\n",
       "      <td>89150</td>\n",
       "      <td>819153</td>\n",
       "      <td>9.188480</td>\n",
       "    </tr>\n",
       "  </tbody>\n",
       "</table>\n",
       "</div>"
      ],
      "text/plain": [
       "    year  median_total_income  avg_sales_price  unaffordability_ratio\n",
       "0   2001                57900           251508               4.343834\n",
       "1   2002                58200           275231               4.729055\n",
       "2   2003                58500           293061               5.009590\n",
       "3   2004                60100           315231               5.245108\n",
       "4   2005                61800           335907               5.435388\n",
       "5   2006                63800           351941               5.516317\n",
       "6   2007                66560           376236               5.652584\n",
       "7   2008                68120           379080               5.564885\n",
       "8   2009                66790           395234               5.917563\n",
       "9   2010                68110           431262               6.331846\n",
       "10  2011                69740           464989               6.667465\n",
       "11  2012                71210           497073               6.980382\n",
       "12  2013                72830           522951               7.180434\n",
       "13  2014                75270           566611               7.527714\n",
       "14  2015                78280           622116               7.947317\n",
       "15  2016                80310           729824               9.087586\n",
       "16  2017                83020           822510               9.907372\n",
       "17  2018                86670           787842               9.090135\n",
       "18  2019                89150           819153               9.188480"
      ]
     },
     "execution_count": 4,
     "metadata": {},
     "output_type": "execute_result"
    }
   ],
   "source": [
    "# Reading in the median_income data set\n",
    "median_income_df = pd.read_csv('data/median_income.csv')\n",
    "\n",
    "# Reading in the avg_sales_price data set\n",
    "avg_sales_price_df = pd.read_csv('data/avg_sales_price.csv')\n",
    "\n",
    "# Merging the two data sets to build Unaffordability Ratio\n",
    "unaffordability_df = pd.merge(median_income_df, avg_sales_price_df, how=\"inner\", on=\"year\")\n",
    "unaffordability_df['unaffordability_ratio'] = unaffordability_df['avg_sales_price'] / \n",
    "                                              unaffordability_df['median_total_income']  # unaffordability_ratio is defined as \n",
    "                                                                                         # the avg_sales_price/median_total_income ration \n",
    "    \n",
    "unaffordability_df"
   ]
  },
  {
   "cell_type": "markdown",
   "id": "c9cc0423",
   "metadata": {},
   "source": [
    "Let's plot **Unaffordability Ratio** over time as below."
   ]
  },
  {
   "cell_type": "code",
   "execution_count": 118,
   "id": "c6c6868e",
   "metadata": {},
   "outputs": [
    {
     "data": {
      "text/html": [
       "\n",
       "<div id=\"altair-viz-f2efaa33006c472b9778a9ac22c5eb9c\"></div>\n",
       "<script type=\"text/javascript\">\n",
       "  (function(spec, embedOpt){\n",
       "    let outputDiv = document.currentScript.previousElementSibling;\n",
       "    if (outputDiv.id !== \"altair-viz-f2efaa33006c472b9778a9ac22c5eb9c\") {\n",
       "      outputDiv = document.getElementById(\"altair-viz-f2efaa33006c472b9778a9ac22c5eb9c\");\n",
       "    }\n",
       "    const paths = {\n",
       "      \"vega\": \"https://cdn.jsdelivr.net/npm//vega@5?noext\",\n",
       "      \"vega-lib\": \"https://cdn.jsdelivr.net/npm//vega-lib?noext\",\n",
       "      \"vega-lite\": \"https://cdn.jsdelivr.net/npm//vega-lite@4.8.1?noext\",\n",
       "      \"vega-embed\": \"https://cdn.jsdelivr.net/npm//vega-embed@6?noext\",\n",
       "    };\n",
       "\n",
       "    function loadScript(lib) {\n",
       "      return new Promise(function(resolve, reject) {\n",
       "        var s = document.createElement('script');\n",
       "        s.src = paths[lib];\n",
       "        s.async = true;\n",
       "        s.onload = () => resolve(paths[lib]);\n",
       "        s.onerror = () => reject(`Error loading script: ${paths[lib]}`);\n",
       "        document.getElementsByTagName(\"head\")[0].appendChild(s);\n",
       "      });\n",
       "    }\n",
       "\n",
       "    function showError(err) {\n",
       "      outputDiv.innerHTML = `<div class=\"error\" style=\"color:red;\">${err}</div>`;\n",
       "      throw err;\n",
       "    }\n",
       "\n",
       "    function displayChart(vegaEmbed) {\n",
       "      vegaEmbed(outputDiv, spec, embedOpt)\n",
       "        .catch(err => showError(`Javascript Error: ${err.message}<br>This usually means there's a typo in your chart specification. See the javascript console for the full traceback.`));\n",
       "    }\n",
       "\n",
       "    if(typeof define === \"function\" && define.amd) {\n",
       "      requirejs.config({paths});\n",
       "      require([\"vega-embed\"], displayChart, err => showError(`Error loading script: ${err.message}`));\n",
       "    } else if (typeof vegaEmbed === \"function\") {\n",
       "      displayChart(vegaEmbed);\n",
       "    } else {\n",
       "      loadScript(\"vega\")\n",
       "        .then(() => loadScript(\"vega-lite\"))\n",
       "        .then(() => loadScript(\"vega-embed\"))\n",
       "        .catch(showError)\n",
       "        .then(() => displayChart(vegaEmbed));\n",
       "    }\n",
       "  })({\"config\": {\"view\": {\"continuousWidth\": 400, \"continuousHeight\": 300}}, \"layer\": [{\"data\": {\"name\": \"data-57accd0297d5f526835e1c82067372ff\"}, \"mark\": {\"type\": \"line\", \"point\": true}, \"encoding\": {\"x\": {\"type\": \"nominal\", \"field\": \"year\", \"title\": \"Year\"}, \"y\": {\"type\": \"quantitative\", \"field\": \"unaffordability_ratio\", \"title\": \"Unaffordability Ratio\"}}, \"title\": \"Unaffodability Ratio vs Time (2001-2019)\"}, {\"data\": {\"name\": \"data-fd6d2c665c5479b782ecb01886967125\"}, \"mark\": {\"type\": \"rule\", \"color\": \"red\"}, \"encoding\": {\"y\": {\"type\": \"quantitative\", \"field\": \"unaffordability_ratio\"}}}], \"width\": 600, \"$schema\": \"https://vega.github.io/schema/vega-lite/v4.8.1.json\", \"datasets\": {\"data-57accd0297d5f526835e1c82067372ff\": [{\"year\": 2001, \"median_total_income\": 57900, \"avg_sales_price\": 251508, \"unaffordability_ratio\": 4.3438341968911915}, {\"year\": 2002, \"median_total_income\": 58200, \"avg_sales_price\": 275231, \"unaffordability_ratio\": 4.729054982817869}, {\"year\": 2003, \"median_total_income\": 58500, \"avg_sales_price\": 293061, \"unaffordability_ratio\": 5.009589743589744}, {\"year\": 2004, \"median_total_income\": 60100, \"avg_sales_price\": 315231, \"unaffordability_ratio\": 5.245108153078203}, {\"year\": 2005, \"median_total_income\": 61800, \"avg_sales_price\": 335907, \"unaffordability_ratio\": 5.435388349514563}, {\"year\": 2006, \"median_total_income\": 63800, \"avg_sales_price\": 351941, \"unaffordability_ratio\": 5.516316614420063}, {\"year\": 2007, \"median_total_income\": 66560, \"avg_sales_price\": 376236, \"unaffordability_ratio\": 5.652584134615385}, {\"year\": 2008, \"median_total_income\": 68120, \"avg_sales_price\": 379080, \"unaffordability_ratio\": 5.564885496183206}, {\"year\": 2009, \"median_total_income\": 66790, \"avg_sales_price\": 395234, \"unaffordability_ratio\": 5.917562509357689}, {\"year\": 2010, \"median_total_income\": 68110, \"avg_sales_price\": 431262, \"unaffordability_ratio\": 6.331845543972985}, {\"year\": 2011, \"median_total_income\": 69740, \"avg_sales_price\": 464989, \"unaffordability_ratio\": 6.667464869515343}, {\"year\": 2012, \"median_total_income\": 71210, \"avg_sales_price\": 497073, \"unaffordability_ratio\": 6.980381968824603}, {\"year\": 2013, \"median_total_income\": 72830, \"avg_sales_price\": 522951, \"unaffordability_ratio\": 7.180433887134423}, {\"year\": 2014, \"median_total_income\": 75270, \"avg_sales_price\": 566611, \"unaffordability_ratio\": 7.527713564501129}, {\"year\": 2015, \"median_total_income\": 78280, \"avg_sales_price\": 622116, \"unaffordability_ratio\": 7.947317322432294}, {\"year\": 2016, \"median_total_income\": 80310, \"avg_sales_price\": 729824, \"unaffordability_ratio\": 9.087585605777612}, {\"year\": 2017, \"median_total_income\": 83020, \"avg_sales_price\": 822510, \"unaffordability_ratio\": 9.907371717658396}, {\"year\": 2018, \"median_total_income\": 86670, \"avg_sales_price\": 787842, \"unaffordability_ratio\": 9.090134994807892}, {\"year\": 2019, \"median_total_income\": 89150, \"avg_sales_price\": 819153, \"unaffordability_ratio\": 9.1884800897364}], \"data-fd6d2c665c5479b782ecb01886967125\": [{\"unaffordability_ratio\": 5.1}]}}, {\"mode\": \"vega-lite\"});\n",
       "</script>"
      ],
      "text/plain": [
       "alt.LayerChart(...)"
      ]
     },
     "execution_count": 118,
     "metadata": {},
     "output_type": "execute_result"
    }
   ],
   "source": [
    "# Plotting Unaffordability Ratio over time\n",
    "line = alt.Chart(unaffordability_df, title='Unaffodability Ratio vs Time (2001-2019)').mark_line(\n",
    "    point=True\n",
    ").encode(\n",
    "     x=alt.X('year:N', title='Year'),\n",
    "     y=alt.Y('unaffordability_ratio', title='Unaffordability Ratio'),\n",
    ")\n",
    "\n",
    "reference = alt.Chart(pd.DataFrame({'unaffordability_ratio': [5.1]})).mark_rule(color='red').encode(y='unaffordability_ratio')\n",
    "\n",
    "(line + reference).properties(width=600)"
   ]
  },
  {
   "cell_type": "markdown",
   "id": "516c68c1",
   "metadata": {},
   "source": [
    "As indicated below [Mark Rosanes](https://www.mpamag.com/ca/mortgage-industry/industry-trends/whats-driving-up-real-estate-prices-in-toronto/287415) discusses that an **Unaffordability Ratio** over `5.1` is equivalent to an **unaffordable housing market**."
   ]
  },
  {
   "cell_type": "markdown",
   "id": "2d303752",
   "metadata": {},
   "source": [
    "![Report1](images/report1.png)"
   ]
  },
  {
   "cell_type": "markdown",
   "id": "ebde975c",
   "metadata": {},
   "source": [
    "The plot reveals that after 2003, the **Unaffordability Ratio** passed the `5.1` threshold and that we are currently at a value above `9.0` (as authenticated by the article)."
   ]
  },
  {
   "cell_type": "markdown",
   "id": "1e7cd803",
   "metadata": {},
   "source": [
    "Now let's look at the affecting parameters as follows:"
   ]
  },
  {
   "cell_type": "markdown",
   "id": "0854bc91",
   "metadata": {},
   "source": [
    "### 3- Affecting Parameters"
   ]
  },
  {
   "cell_type": "markdown",
   "id": "84e02da1",
   "metadata": {},
   "source": [
    "#### 3-1 Supply/Demand"
   ]
  },
  {
   "cell_type": "markdown",
   "id": "1a3089ae",
   "metadata": {},
   "source": [
    "Doing a thorough literature review, it seems like \"Supply/Demand\" balance plays the key role in **Housing Price** in Toronto and other parameters (e.g. \"Interest Rate\" or \"Foreign Ownership\") affect this balance and consequently the **Housing Price**."
   ]
  },
  {
   "cell_type": "markdown",
   "id": "70473cbf",
   "metadata": {},
   "source": [
    "[Jason Fernando](https://www.investopedia.com/terms/l/law-of-supply-demand.asp) defines the \"Law of Supply and Demand\" as \"*A theory that explains the interaction between the sellers of a resource and the buyers for that resource. The theory defines the relationship between the price of a given good or product and the willingness of people to either buy or sell it*\"."
   ]
  },
  {
   "cell_type": "markdown",
   "id": "2e7f8905",
   "metadata": {},
   "source": [
    "As discussed by this [Investopedia article](https://www.investopedia.com/ask/answers/040215/how-does-law-supply-and-demand-affect-housing-market.asp), \"When there is a high demand for a good or service, its price rises. If there is a large supply of a good or service but not enough demand for it, the price falls.\" and Toronto Housing Market is not an exception."
   ]
  },
  {
   "cell_type": "markdown",
   "id": "ed4c491f",
   "metadata": {},
   "source": [
    "To better investigate Supply/Demand balance I look at each factor and how they affect the Housing Market in Toronto separately."
   ]
  },
  {
   "cell_type": "markdown",
   "id": "3a80faee",
   "metadata": {},
   "source": [
    "##### 3-1-1 Supply"
   ]
  },
  {
   "cell_type": "markdown",
   "id": "54fe5ff6",
   "metadata": {},
   "source": [
    "The Supply side of the coin in the Housing Market can be thought as to have two branches:\n",
    "- **Existing/Active Supply:** This refers to the number of existing houses in the city of Toronto.\n",
    "- **Potential/Passive Supply:** This refers to the number of houses either starting for construction, under construction or completed in the city of Toronto.\n",
    "\n",
    "I will look into each branch below."
   ]
  },
  {
   "cell_type": "markdown",
   "id": "b0866375",
   "metadata": {},
   "source": [
    "**Existing/Active Supply**"
   ]
  },
  {
   "cell_type": "markdown",
   "id": "5bdba438",
   "metadata": {},
   "source": [
    "I have made use of Canadian Census data (available [here](https://www12.statcan.gc.ca/census-recensement/index-eng.cfm)) to query the **Number of Houses (Dwellings)** for each census year.\n",
    "\n",
    "**Note:** These data are collected each census year and available up to `2016` census year."
   ]
  },
  {
   "cell_type": "code",
   "execution_count": 6,
   "id": "5eeac256",
   "metadata": {},
   "outputs": [
    {
     "data": {
      "text/html": [
       "<div>\n",
       "<style scoped>\n",
       "    .dataframe tbody tr th:only-of-type {\n",
       "        vertical-align: middle;\n",
       "    }\n",
       "\n",
       "    .dataframe tbody tr th {\n",
       "        vertical-align: top;\n",
       "    }\n",
       "\n",
       "    .dataframe thead th {\n",
       "        text-align: right;\n",
       "    }\n",
       "</style>\n",
       "<table border=\"1\" class=\"dataframe\">\n",
       "  <thead>\n",
       "    <tr style=\"text-align: right;\">\n",
       "      <th></th>\n",
       "      <th>year</th>\n",
       "      <th>number_of_houses</th>\n",
       "    </tr>\n",
       "  </thead>\n",
       "  <tbody>\n",
       "    <tr>\n",
       "      <th>0</th>\n",
       "      <td>2001</td>\n",
       "      <td>965554</td>\n",
       "    </tr>\n",
       "    <tr>\n",
       "      <th>1</th>\n",
       "      <td>2006</td>\n",
       "      <td>1894436</td>\n",
       "    </tr>\n",
       "    <tr>\n",
       "      <th>2</th>\n",
       "      <td>2011</td>\n",
       "      <td>1989705</td>\n",
       "    </tr>\n",
       "    <tr>\n",
       "      <th>3</th>\n",
       "      <td>2016</td>\n",
       "      <td>2135910</td>\n",
       "    </tr>\n",
       "  </tbody>\n",
       "</table>\n",
       "</div>"
      ],
      "text/plain": [
       "   year  number_of_houses\n",
       "0  2001            965554\n",
       "1  2006           1894436\n",
       "2  2011           1989705\n",
       "3  2016           2135910"
      ]
     },
     "execution_count": 6,
     "metadata": {},
     "output_type": "execute_result"
    }
   ],
   "source": [
    "# Reading in housing_stock data set\n",
    "housing_stock_df = pd.read_csv('data/housing_stock.csv')\n",
    "housing_stock_df"
   ]
  },
  {
   "cell_type": "markdown",
   "id": "3e1a4bb0",
   "metadata": {},
   "source": [
    "I will now use these **historical** data to make prediction for future using \"[Linear Regression](https://en.wikipedia.org/wiki/Linear_regression)\"."
   ]
  },
  {
   "cell_type": "markdown",
   "id": "97174bde",
   "metadata": {},
   "source": [
    "**Note:** \"Future\" in this analysis referes to the 2021-2046 horizon."
   ]
  },
  {
   "cell_type": "code",
   "execution_count": 122,
   "id": "7da5fc93",
   "metadata": {},
   "outputs": [
    {
     "data": {
      "text/plain": [
       "Ridge()"
      ]
     },
     "execution_count": 122,
     "metadata": {},
     "output_type": "execute_result"
    }
   ],
   "source": [
    "X_housing_stock = housing_stock_df['year'].values.reshape(-1,1)\n",
    "y_housing_stock = housing_stock_df['number_of_houses'].values\n",
    "\n",
    "# Splitting the data into train and test splits\n",
    "\n",
    "# Train split\n",
    "X_train_housing_stock = X_housing_stock[-2:]\n",
    "y_train_housing_stock = y_housing_stock[-2:]\n",
    "\n",
    "# Test split\n",
    "X_test_housing_stock = X_housing_stock[:-2]\n",
    "y_test_housing_stock= y_housing_stock[:-2]\n",
    "\n",
    "# Modeling Linear Regression with sklearn Ridge()\n",
    "model=Ridge()\n",
    "model.fit(X_train_housing_stock, y_train_housing_stock)"
   ]
  },
  {
   "cell_type": "markdown",
   "id": "5865f86e",
   "metadata": {},
   "source": [
    "Let's take a look at the performance of the model. Here, I have used \"[Mean Squared Error (MSE)](https://en.wikipedia.org/wiki/Mean_squared_error)\" and \"[R-Squared](https://en.wikipedia.org/wiki/Coefficient_of_determination)\" as metrics."
   ]
  },
  {
   "cell_type": "code",
   "execution_count": 123,
   "id": "dc0bcfdc",
   "metadata": {},
   "outputs": [
    {
     "name": "stdout",
     "output_type": "stream",
     "text": [
      "MSE train: 29322225.0, test: 288502593668.5\n",
      "R^2 train: 1.0, test: -0.3\n"
     ]
    }
   ],
   "source": [
    "# Let's calculate the MSE and R-Squared for the historical data\n",
    "y_train_housing_stock_pred = model.predict(X_train_housing_stock)\n",
    "y_test_housing_stock_pred = model.predict(X_test_housing_stock)\n",
    "\n",
    "# Mean Squared Error (MSE)\n",
    "print('MSE train: %.1f, test: %.1f' % (mean_squared_error(y_train_housing_stock, y_train_housing_stock_pred),\n",
    "                mean_squared_error(y_test_housing_stock, y_test_housing_stock_pred)))\n",
    "# R-Squared\n",
    "print('R^2 train: %.1f, test: %.1f' % (r2_score(y_train_housing_stock, y_train_housing_stock_pred),\n",
    "                r2_score(y_test_housing_stock, y_test_housing_stock_pred)))"
   ]
  },
  {
   "cell_type": "markdown",
   "id": "e1e9d43a",
   "metadata": {},
   "source": [
    "Given the fact that we have only `4` data points to build the model from, this poor performance of the model is not surprising. However, I will not spend time on improving the LR model and will make prediction using what I have.\n",
    "\n",
    "Below I have made forecast for the 2021-2046 horizon."
   ]
  },
  {
   "cell_type": "code",
   "execution_count": 124,
   "id": "6f1a30ff",
   "metadata": {},
   "outputs": [],
   "source": [
    "# Forecasting with Ridge()\n",
    "X_forecast_housing_stock = np.arange(2021, 2047, 1).reshape(-1,1)\n",
    "y_forecast_housing_stock = model.predict(X_forecast_housing_stock)"
   ]
  },
  {
   "cell_type": "markdown",
   "id": "d04076c1",
   "metadata": {},
   "source": [
    "Let's tabulate the prediction values below:"
   ]
  },
  {
   "cell_type": "code",
   "execution_count": 125,
   "id": "4de76c5b",
   "metadata": {},
   "outputs": [
    {
     "data": {
      "text/html": [
       "<div>\n",
       "<style scoped>\n",
       "    .dataframe tbody tr th:only-of-type {\n",
       "        vertical-align: middle;\n",
       "    }\n",
       "\n",
       "    .dataframe tbody tr th {\n",
       "        vertical-align: top;\n",
       "    }\n",
       "\n",
       "    .dataframe thead th {\n",
       "        text-align: right;\n",
       "    }\n",
       "</style>\n",
       "<table border=\"1\" class=\"dataframe\">\n",
       "  <thead>\n",
       "    <tr style=\"text-align: right;\">\n",
       "      <th></th>\n",
       "      <th>year</th>\n",
       "      <th>number_of_houses</th>\n",
       "    </tr>\n",
       "  </thead>\n",
       "  <tbody>\n",
       "    <tr>\n",
       "      <th>0</th>\n",
       "      <td>2021</td>\n",
       "      <td>2265870.0</td>\n",
       "    </tr>\n",
       "    <tr>\n",
       "      <th>1</th>\n",
       "      <td>2022</td>\n",
       "      <td>2292945.0</td>\n",
       "    </tr>\n",
       "    <tr>\n",
       "      <th>2</th>\n",
       "      <td>2023</td>\n",
       "      <td>2320020.0</td>\n",
       "    </tr>\n",
       "    <tr>\n",
       "      <th>3</th>\n",
       "      <td>2024</td>\n",
       "      <td>2347095.0</td>\n",
       "    </tr>\n",
       "    <tr>\n",
       "      <th>4</th>\n",
       "      <td>2025</td>\n",
       "      <td>2374170.0</td>\n",
       "    </tr>\n",
       "    <tr>\n",
       "      <th>5</th>\n",
       "      <td>2026</td>\n",
       "      <td>2401245.0</td>\n",
       "    </tr>\n",
       "    <tr>\n",
       "      <th>6</th>\n",
       "      <td>2027</td>\n",
       "      <td>2428320.0</td>\n",
       "    </tr>\n",
       "    <tr>\n",
       "      <th>7</th>\n",
       "      <td>2028</td>\n",
       "      <td>2455395.0</td>\n",
       "    </tr>\n",
       "    <tr>\n",
       "      <th>8</th>\n",
       "      <td>2029</td>\n",
       "      <td>2482470.0</td>\n",
       "    </tr>\n",
       "    <tr>\n",
       "      <th>9</th>\n",
       "      <td>2030</td>\n",
       "      <td>2509545.0</td>\n",
       "    </tr>\n",
       "    <tr>\n",
       "      <th>10</th>\n",
       "      <td>2031</td>\n",
       "      <td>2536620.0</td>\n",
       "    </tr>\n",
       "    <tr>\n",
       "      <th>11</th>\n",
       "      <td>2032</td>\n",
       "      <td>2563695.0</td>\n",
       "    </tr>\n",
       "    <tr>\n",
       "      <th>12</th>\n",
       "      <td>2033</td>\n",
       "      <td>2590770.0</td>\n",
       "    </tr>\n",
       "    <tr>\n",
       "      <th>13</th>\n",
       "      <td>2034</td>\n",
       "      <td>2617845.0</td>\n",
       "    </tr>\n",
       "    <tr>\n",
       "      <th>14</th>\n",
       "      <td>2035</td>\n",
       "      <td>2644920.0</td>\n",
       "    </tr>\n",
       "    <tr>\n",
       "      <th>15</th>\n",
       "      <td>2036</td>\n",
       "      <td>2671995.0</td>\n",
       "    </tr>\n",
       "    <tr>\n",
       "      <th>16</th>\n",
       "      <td>2037</td>\n",
       "      <td>2699070.0</td>\n",
       "    </tr>\n",
       "    <tr>\n",
       "      <th>17</th>\n",
       "      <td>2038</td>\n",
       "      <td>2726145.0</td>\n",
       "    </tr>\n",
       "    <tr>\n",
       "      <th>18</th>\n",
       "      <td>2039</td>\n",
       "      <td>2753220.0</td>\n",
       "    </tr>\n",
       "    <tr>\n",
       "      <th>19</th>\n",
       "      <td>2040</td>\n",
       "      <td>2780295.0</td>\n",
       "    </tr>\n",
       "    <tr>\n",
       "      <th>20</th>\n",
       "      <td>2041</td>\n",
       "      <td>2807370.0</td>\n",
       "    </tr>\n",
       "    <tr>\n",
       "      <th>21</th>\n",
       "      <td>2042</td>\n",
       "      <td>2834445.0</td>\n",
       "    </tr>\n",
       "    <tr>\n",
       "      <th>22</th>\n",
       "      <td>2043</td>\n",
       "      <td>2861520.0</td>\n",
       "    </tr>\n",
       "    <tr>\n",
       "      <th>23</th>\n",
       "      <td>2044</td>\n",
       "      <td>2888595.0</td>\n",
       "    </tr>\n",
       "    <tr>\n",
       "      <th>24</th>\n",
       "      <td>2045</td>\n",
       "      <td>2915670.0</td>\n",
       "    </tr>\n",
       "    <tr>\n",
       "      <th>25</th>\n",
       "      <td>2046</td>\n",
       "      <td>2942745.0</td>\n",
       "    </tr>\n",
       "  </tbody>\n",
       "</table>\n",
       "</div>"
      ],
      "text/plain": [
       "    year  number_of_houses\n",
       "0   2021         2265870.0\n",
       "1   2022         2292945.0\n",
       "2   2023         2320020.0\n",
       "3   2024         2347095.0\n",
       "4   2025         2374170.0\n",
       "5   2026         2401245.0\n",
       "6   2027         2428320.0\n",
       "7   2028         2455395.0\n",
       "8   2029         2482470.0\n",
       "9   2030         2509545.0\n",
       "10  2031         2536620.0\n",
       "11  2032         2563695.0\n",
       "12  2033         2590770.0\n",
       "13  2034         2617845.0\n",
       "14  2035         2644920.0\n",
       "15  2036         2671995.0\n",
       "16  2037         2699070.0\n",
       "17  2038         2726145.0\n",
       "18  2039         2753220.0\n",
       "19  2040         2780295.0\n",
       "20  2041         2807370.0\n",
       "21  2042         2834445.0\n",
       "22  2043         2861520.0\n",
       "23  2044         2888595.0\n",
       "24  2045         2915670.0\n",
       "25  2046         2942745.0"
      ]
     },
     "execution_count": 125,
     "metadata": {},
     "output_type": "execute_result"
    }
   ],
   "source": [
    "# Creating a data frame for future values of Number of Houses \n",
    "forecast_housing_stock_df = pd.DataFrame({'year': X_forecast_housing_stock.flatten(), 'number_of_houses': y_forecast_housing_stock}, \n",
    "                                         columns=['year', 'number_of_houses'])\n",
    "forecast_housing_stock_df"
   ]
  },
  {
   "cell_type": "markdown",
   "id": "012cc134",
   "metadata": {},
   "source": [
    "I will plot both \"historical\" and \"forecast\" data over time below and combine all data in a single table (`housing_stock_df_new`) later on:"
   ]
  },
  {
   "cell_type": "code",
   "execution_count": 126,
   "id": "0445e3a2",
   "metadata": {},
   "outputs": [
    {
     "data": {
      "text/html": [
       "\n",
       "<div id=\"altair-viz-917a959de68641be92ca5f243b5e532d\"></div>\n",
       "<script type=\"text/javascript\">\n",
       "  (function(spec, embedOpt){\n",
       "    let outputDiv = document.currentScript.previousElementSibling;\n",
       "    if (outputDiv.id !== \"altair-viz-917a959de68641be92ca5f243b5e532d\") {\n",
       "      outputDiv = document.getElementById(\"altair-viz-917a959de68641be92ca5f243b5e532d\");\n",
       "    }\n",
       "    const paths = {\n",
       "      \"vega\": \"https://cdn.jsdelivr.net/npm//vega@5?noext\",\n",
       "      \"vega-lib\": \"https://cdn.jsdelivr.net/npm//vega-lib?noext\",\n",
       "      \"vega-lite\": \"https://cdn.jsdelivr.net/npm//vega-lite@4.8.1?noext\",\n",
       "      \"vega-embed\": \"https://cdn.jsdelivr.net/npm//vega-embed@6?noext\",\n",
       "    };\n",
       "\n",
       "    function loadScript(lib) {\n",
       "      return new Promise(function(resolve, reject) {\n",
       "        var s = document.createElement('script');\n",
       "        s.src = paths[lib];\n",
       "        s.async = true;\n",
       "        s.onload = () => resolve(paths[lib]);\n",
       "        s.onerror = () => reject(`Error loading script: ${paths[lib]}`);\n",
       "        document.getElementsByTagName(\"head\")[0].appendChild(s);\n",
       "      });\n",
       "    }\n",
       "\n",
       "    function showError(err) {\n",
       "      outputDiv.innerHTML = `<div class=\"error\" style=\"color:red;\">${err}</div>`;\n",
       "      throw err;\n",
       "    }\n",
       "\n",
       "    function displayChart(vegaEmbed) {\n",
       "      vegaEmbed(outputDiv, spec, embedOpt)\n",
       "        .catch(err => showError(`Javascript Error: ${err.message}<br>This usually means there's a typo in your chart specification. See the javascript console for the full traceback.`));\n",
       "    }\n",
       "\n",
       "    if(typeof define === \"function\" && define.amd) {\n",
       "      requirejs.config({paths});\n",
       "      require([\"vega-embed\"], displayChart, err => showError(`Error loading script: ${err.message}`));\n",
       "    } else if (typeof vegaEmbed === \"function\") {\n",
       "      displayChart(vegaEmbed);\n",
       "    } else {\n",
       "      loadScript(\"vega\")\n",
       "        .then(() => loadScript(\"vega-lite\"))\n",
       "        .then(() => loadScript(\"vega-embed\"))\n",
       "        .catch(showError)\n",
       "        .then(() => displayChart(vegaEmbed));\n",
       "    }\n",
       "  })({\"config\": {\"view\": {\"continuousWidth\": 400, \"continuousHeight\": 300}}, \"layer\": [{\"data\": {\"name\": \"data-37c878e30850b9d84002a3c1c79227f7\"}, \"mark\": \"point\", \"encoding\": {\"x\": {\"type\": \"nominal\", \"field\": \"year\", \"title\": \"Year\"}, \"y\": {\"type\": \"quantitative\", \"field\": \"number_of_houses\", \"title\": \"No. of Houses\"}}, \"title\": \"No. of Houses (Housing Stock) vs Time (2001-2046)\"}, {\"data\": {\"name\": \"data-7e7bf9b09777ef051781770f021cd17f\"}, \"mark\": {\"type\": \"line\", \"point\": false}, \"encoding\": {\"color\": {\"value\": \"red\"}, \"x\": {\"type\": \"nominal\", \"field\": \"year\", \"title\": \"Year\"}, \"y\": {\"type\": \"quantitative\", \"field\": \"number_of_houses\", \"title\": \"No. of Houses\"}}}, {\"data\": {\"name\": \"data-158e6ae56f5030b629269e443d8a9c8e\"}, \"mark\": {\"type\": \"text\", \"color\": \"steelblue\", \"dx\": 15, \"dy\": 20, \"fontSize\": 10}, \"encoding\": {\"text\": {\"value\": \"Historical Data\"}, \"x\": {\"type\": \"nominal\", \"field\": \"year\", \"title\": \"Year\"}, \"y\": {\"type\": \"quantitative\", \"field\": \"number_of_houses\", \"title\": \"No. of Houses\"}}}, {\"data\": {\"name\": \"data-481bb9fc1399c3f8db55dd012f73a11d\"}, \"mark\": {\"type\": \"text\", \"color\": \"red\", \"dx\": 0, \"dy\": -20, \"fontSize\": 10}, \"encoding\": {\"text\": {\"value\": \"Forecaste Data\"}, \"x\": {\"type\": \"nominal\", \"field\": \"year\", \"title\": \"Year\"}, \"y\": {\"type\": \"quantitative\", \"field\": \"number_of_houses\", \"title\": \"No. of Houses\"}}}], \"$schema\": \"https://vega.github.io/schema/vega-lite/v4.8.1.json\", \"datasets\": {\"data-37c878e30850b9d84002a3c1c79227f7\": [{\"year\": 2001, \"number_of_houses\": 965554}, {\"year\": 2006, \"number_of_houses\": 1894436}, {\"year\": 2011, \"number_of_houses\": 1989705}, {\"year\": 2016, \"number_of_houses\": 2135910}], \"data-7e7bf9b09777ef051781770f021cd17f\": [{\"year\": 2021, \"number_of_houses\": 2265870.0}, {\"year\": 2022, \"number_of_houses\": 2292945.0}, {\"year\": 2023, \"number_of_houses\": 2320020.0}, {\"year\": 2024, \"number_of_houses\": 2347095.0}, {\"year\": 2025, \"number_of_houses\": 2374170.0}, {\"year\": 2026, \"number_of_houses\": 2401245.0}, {\"year\": 2027, \"number_of_houses\": 2428320.0}, {\"year\": 2028, \"number_of_houses\": 2455395.0}, {\"year\": 2029, \"number_of_houses\": 2482470.0}, {\"year\": 2030, \"number_of_houses\": 2509545.0}, {\"year\": 2031, \"number_of_houses\": 2536620.0}, {\"year\": 2032, \"number_of_houses\": 2563695.0}, {\"year\": 2033, \"number_of_houses\": 2590770.0}, {\"year\": 2034, \"number_of_houses\": 2617845.0}, {\"year\": 2035, \"number_of_houses\": 2644920.0}, {\"year\": 2036, \"number_of_houses\": 2671995.0}, {\"year\": 2037, \"number_of_houses\": 2699070.0}, {\"year\": 2038, \"number_of_houses\": 2726145.0}, {\"year\": 2039, \"number_of_houses\": 2753220.0}, {\"year\": 2040, \"number_of_houses\": 2780295.0}, {\"year\": 2041, \"number_of_houses\": 2807370.0}, {\"year\": 2042, \"number_of_houses\": 2834445.0}, {\"year\": 2043, \"number_of_houses\": 2861520.0}, {\"year\": 2044, \"number_of_houses\": 2888595.0}, {\"year\": 2045, \"number_of_houses\": 2915670.0}, {\"year\": 2046, \"number_of_houses\": 2942745.0}], \"data-158e6ae56f5030b629269e443d8a9c8e\": [{\"year\": 2006, \"number_of_houses\": 1894436}], \"data-481bb9fc1399c3f8db55dd012f73a11d\": [{\"year\": 2031, \"number_of_houses\": 2536620.0}]}}, {\"mode\": \"vega-lite\"});\n",
       "</script>"
      ],
      "text/plain": [
       "alt.LayerChart(...)"
      ]
     },
     "execution_count": 126,
     "metadata": {},
     "output_type": "execute_result"
    }
   ],
   "source": [
    "# Plotting historical and forecast data for Number of Houses\n",
    "historical = alt.Chart(housing_stock_df, title='No. of Houses (Housing Stock) vs Time (2001-2046)').mark_point(\n",
    ").encode(\n",
    "    x=alt.X('year:N', title='Year'),\n",
    "    y=alt.Y('number_of_houses', title='No. of Houses')\n",
    ")\n",
    "\n",
    "forecast = alt.Chart(forecast_housing_stock_df).mark_line(\n",
    "    point=False\n",
    ").encode(\n",
    "    x=alt.X('year:N', title='Year'),\n",
    "    y=alt.Y('number_of_houses', title='No. of Houses'),\n",
    "    color=alt.value('red'),      \n",
    ")\n",
    "\n",
    "text1 = alt.Chart(housing_stock_df.query('year == \"2006\"')).mark_text(dx=15, dy=20, color='steelblue', fontSize=10).encode(\n",
    "        x=alt.X('year:N', title='Year'), \n",
    "       y=alt.Y('number_of_houses', title='No. of Houses'),\n",
    "        text=alt.value('Historical Data')\n",
    ")\n",
    "\n",
    "text2 = alt.Chart(forecast_housing_stock_df.query('year == \"2031\"')).mark_text(dx=0, dy=-20, color='red', fontSize=10).encode(\n",
    "        x=alt.X('year:N', title='Year'),\n",
    "        y=alt.Y('number_of_houses', title='No. of Houses'),\n",
    "        text=alt.value('Forecaste Data')\n",
    ")\n",
    "\n",
    "(historical + forecast + text1 + text2)"
   ]
  },
  {
   "cell_type": "code",
   "execution_count": 127,
   "id": "c88d1df4",
   "metadata": {},
   "outputs": [
    {
     "data": {
      "text/html": [
       "<div>\n",
       "<style scoped>\n",
       "    .dataframe tbody tr th:only-of-type {\n",
       "        vertical-align: middle;\n",
       "    }\n",
       "\n",
       "    .dataframe tbody tr th {\n",
       "        vertical-align: top;\n",
       "    }\n",
       "\n",
       "    .dataframe thead th {\n",
       "        text-align: right;\n",
       "    }\n",
       "</style>\n",
       "<table border=\"1\" class=\"dataframe\">\n",
       "  <thead>\n",
       "    <tr style=\"text-align: right;\">\n",
       "      <th></th>\n",
       "      <th>year</th>\n",
       "      <th>number_of_houses</th>\n",
       "    </tr>\n",
       "  </thead>\n",
       "  <tbody>\n",
       "    <tr>\n",
       "      <th>0</th>\n",
       "      <td>2001</td>\n",
       "      <td>965554.0</td>\n",
       "    </tr>\n",
       "    <tr>\n",
       "      <th>1</th>\n",
       "      <td>2006</td>\n",
       "      <td>1894436.0</td>\n",
       "    </tr>\n",
       "    <tr>\n",
       "      <th>2</th>\n",
       "      <td>2011</td>\n",
       "      <td>1989705.0</td>\n",
       "    </tr>\n",
       "    <tr>\n",
       "      <th>3</th>\n",
       "      <td>2016</td>\n",
       "      <td>2135910.0</td>\n",
       "    </tr>\n",
       "    <tr>\n",
       "      <th>4</th>\n",
       "      <td>2021</td>\n",
       "      <td>2265870.0</td>\n",
       "    </tr>\n",
       "    <tr>\n",
       "      <th>5</th>\n",
       "      <td>2022</td>\n",
       "      <td>2292945.0</td>\n",
       "    </tr>\n",
       "    <tr>\n",
       "      <th>6</th>\n",
       "      <td>2023</td>\n",
       "      <td>2320020.0</td>\n",
       "    </tr>\n",
       "    <tr>\n",
       "      <th>7</th>\n",
       "      <td>2024</td>\n",
       "      <td>2347095.0</td>\n",
       "    </tr>\n",
       "    <tr>\n",
       "      <th>8</th>\n",
       "      <td>2025</td>\n",
       "      <td>2374170.0</td>\n",
       "    </tr>\n",
       "    <tr>\n",
       "      <th>9</th>\n",
       "      <td>2026</td>\n",
       "      <td>2401245.0</td>\n",
       "    </tr>\n",
       "    <tr>\n",
       "      <th>10</th>\n",
       "      <td>2027</td>\n",
       "      <td>2428320.0</td>\n",
       "    </tr>\n",
       "    <tr>\n",
       "      <th>11</th>\n",
       "      <td>2028</td>\n",
       "      <td>2455395.0</td>\n",
       "    </tr>\n",
       "    <tr>\n",
       "      <th>12</th>\n",
       "      <td>2029</td>\n",
       "      <td>2482470.0</td>\n",
       "    </tr>\n",
       "    <tr>\n",
       "      <th>13</th>\n",
       "      <td>2030</td>\n",
       "      <td>2509545.0</td>\n",
       "    </tr>\n",
       "    <tr>\n",
       "      <th>14</th>\n",
       "      <td>2031</td>\n",
       "      <td>2536620.0</td>\n",
       "    </tr>\n",
       "    <tr>\n",
       "      <th>15</th>\n",
       "      <td>2032</td>\n",
       "      <td>2563695.0</td>\n",
       "    </tr>\n",
       "    <tr>\n",
       "      <th>16</th>\n",
       "      <td>2033</td>\n",
       "      <td>2590770.0</td>\n",
       "    </tr>\n",
       "    <tr>\n",
       "      <th>17</th>\n",
       "      <td>2034</td>\n",
       "      <td>2617845.0</td>\n",
       "    </tr>\n",
       "    <tr>\n",
       "      <th>18</th>\n",
       "      <td>2035</td>\n",
       "      <td>2644920.0</td>\n",
       "    </tr>\n",
       "    <tr>\n",
       "      <th>19</th>\n",
       "      <td>2036</td>\n",
       "      <td>2671995.0</td>\n",
       "    </tr>\n",
       "    <tr>\n",
       "      <th>20</th>\n",
       "      <td>2037</td>\n",
       "      <td>2699070.0</td>\n",
       "    </tr>\n",
       "    <tr>\n",
       "      <th>21</th>\n",
       "      <td>2038</td>\n",
       "      <td>2726145.0</td>\n",
       "    </tr>\n",
       "    <tr>\n",
       "      <th>22</th>\n",
       "      <td>2039</td>\n",
       "      <td>2753220.0</td>\n",
       "    </tr>\n",
       "    <tr>\n",
       "      <th>23</th>\n",
       "      <td>2040</td>\n",
       "      <td>2780295.0</td>\n",
       "    </tr>\n",
       "    <tr>\n",
       "      <th>24</th>\n",
       "      <td>2041</td>\n",
       "      <td>2807370.0</td>\n",
       "    </tr>\n",
       "    <tr>\n",
       "      <th>25</th>\n",
       "      <td>2042</td>\n",
       "      <td>2834445.0</td>\n",
       "    </tr>\n",
       "    <tr>\n",
       "      <th>26</th>\n",
       "      <td>2043</td>\n",
       "      <td>2861520.0</td>\n",
       "    </tr>\n",
       "    <tr>\n",
       "      <th>27</th>\n",
       "      <td>2044</td>\n",
       "      <td>2888595.0</td>\n",
       "    </tr>\n",
       "    <tr>\n",
       "      <th>28</th>\n",
       "      <td>2045</td>\n",
       "      <td>2915670.0</td>\n",
       "    </tr>\n",
       "    <tr>\n",
       "      <th>29</th>\n",
       "      <td>2046</td>\n",
       "      <td>2942745.0</td>\n",
       "    </tr>\n",
       "  </tbody>\n",
       "</table>\n",
       "</div>"
      ],
      "text/plain": [
       "    year  number_of_houses\n",
       "0   2001          965554.0\n",
       "1   2006         1894436.0\n",
       "2   2011         1989705.0\n",
       "3   2016         2135910.0\n",
       "4   2021         2265870.0\n",
       "5   2022         2292945.0\n",
       "6   2023         2320020.0\n",
       "7   2024         2347095.0\n",
       "8   2025         2374170.0\n",
       "9   2026         2401245.0\n",
       "10  2027         2428320.0\n",
       "11  2028         2455395.0\n",
       "12  2029         2482470.0\n",
       "13  2030         2509545.0\n",
       "14  2031         2536620.0\n",
       "15  2032         2563695.0\n",
       "16  2033         2590770.0\n",
       "17  2034         2617845.0\n",
       "18  2035         2644920.0\n",
       "19  2036         2671995.0\n",
       "20  2037         2699070.0\n",
       "21  2038         2726145.0\n",
       "22  2039         2753220.0\n",
       "23  2040         2780295.0\n",
       "24  2041         2807370.0\n",
       "25  2042         2834445.0\n",
       "26  2043         2861520.0\n",
       "27  2044         2888595.0\n",
       "28  2045         2915670.0\n",
       "29  2046         2942745.0"
      ]
     },
     "execution_count": 127,
     "metadata": {},
     "output_type": "execute_result"
    }
   ],
   "source": [
    "# Combining historic and forecast data for Number of Houses\n",
    "housing_stock_df_new = housing_stock_df.append(forecast_housing_stock_df, ignore_index=True)\n",
    "housing_stock_df_new"
   ]
  },
  {
   "cell_type": "markdown",
   "id": "a43f7a30",
   "metadata": {},
   "source": [
    "The above table shows that in `2046` the number of Existing/Active houses in the city of Toronto is expected to be **2942745**."
   ]
  },
  {
   "cell_type": "markdown",
   "id": "6cda88c4",
   "metadata": {},
   "source": [
    "This value is in alignment with the data from [Amira Karimova's](https://mpra.ub.uni-muenchen.de/103298/1/MPRA_paper_103298.pdf) paper as shown below (sanity check!)"
   ]
  },
  {
   "cell_type": "markdown",
   "id": "165a7c0f",
   "metadata": {},
   "source": [
    "![MPRA_Article](images/mpra.png)"
   ]
  },
  {
   "cell_type": "markdown",
   "id": "b65f25eb",
   "metadata": {},
   "source": [
    "**Potential/Passive Supply**"
   ]
  },
  {
   "cell_type": "markdown",
   "id": "217cfcde",
   "metadata": {},
   "source": [
    "Each year in the city of Toronto, there are houses that:\n",
    "- Have started for construction\n",
    "- Are under construction\n",
    "- Have completed construction"
   ]
  },
  {
   "cell_type": "markdown",
   "id": "3d083f86",
   "metadata": {},
   "source": [
    "These numbers are proxy to what is called as \"Potential Supply\" in housing market in Toronto. I have made use of Statistics Canada data (available [here](https://www150.statcan.gc.ca/t1/tbl1/en/tv.action?pid=3410013401)) to get the numbers for the past two decades."
   ]
  },
  {
   "cell_type": "code",
   "execution_count": 128,
   "id": "4068c296",
   "metadata": {},
   "outputs": [
    {
     "data": {
      "text/html": [
       "<div>\n",
       "<style scoped>\n",
       "    .dataframe tbody tr th:only-of-type {\n",
       "        vertical-align: middle;\n",
       "    }\n",
       "\n",
       "    .dataframe tbody tr th {\n",
       "        vertical-align: top;\n",
       "    }\n",
       "\n",
       "    .dataframe thead th {\n",
       "        text-align: right;\n",
       "    }\n",
       "</style>\n",
       "<table border=\"1\" class=\"dataframe\">\n",
       "  <thead>\n",
       "    <tr style=\"text-align: right;\">\n",
       "      <th></th>\n",
       "      <th>year</th>\n",
       "      <th>housing_starts</th>\n",
       "      <th>housing_under_construction</th>\n",
       "      <th>housing_completions</th>\n",
       "    </tr>\n",
       "  </thead>\n",
       "  <tbody>\n",
       "    <tr>\n",
       "      <th>0</th>\n",
       "      <td>2000</td>\n",
       "      <td>38982</td>\n",
       "      <td>30273</td>\n",
       "      <td>33740</td>\n",
       "    </tr>\n",
       "    <tr>\n",
       "      <th>1</th>\n",
       "      <td>2001</td>\n",
       "      <td>41017</td>\n",
       "      <td>34305</td>\n",
       "      <td>37138</td>\n",
       "    </tr>\n",
       "    <tr>\n",
       "      <th>2</th>\n",
       "      <td>2002</td>\n",
       "      <td>43805</td>\n",
       "      <td>33094</td>\n",
       "      <td>45170</td>\n",
       "    </tr>\n",
       "    <tr>\n",
       "      <th>3</th>\n",
       "      <td>2003</td>\n",
       "      <td>45475</td>\n",
       "      <td>39907</td>\n",
       "      <td>38644</td>\n",
       "    </tr>\n",
       "    <tr>\n",
       "      <th>4</th>\n",
       "      <td>2004</td>\n",
       "      <td>42115</td>\n",
       "      <td>42148</td>\n",
       "      <td>39620</td>\n",
       "    </tr>\n",
       "    <tr>\n",
       "      <th>5</th>\n",
       "      <td>2005</td>\n",
       "      <td>41596</td>\n",
       "      <td>44305</td>\n",
       "      <td>39296</td>\n",
       "    </tr>\n",
       "    <tr>\n",
       "      <th>6</th>\n",
       "      <td>2006</td>\n",
       "      <td>37080</td>\n",
       "      <td>42654</td>\n",
       "      <td>38121</td>\n",
       "    </tr>\n",
       "    <tr>\n",
       "      <th>7</th>\n",
       "      <td>2007</td>\n",
       "      <td>33293</td>\n",
       "      <td>45470</td>\n",
       "      <td>30357</td>\n",
       "    </tr>\n",
       "    <tr>\n",
       "      <th>8</th>\n",
       "      <td>2008</td>\n",
       "      <td>42212</td>\n",
       "      <td>50823</td>\n",
       "      <td>36258</td>\n",
       "    </tr>\n",
       "    <tr>\n",
       "      <th>9</th>\n",
       "      <td>2009</td>\n",
       "      <td>25949</td>\n",
       "      <td>48361</td>\n",
       "      <td>28356</td>\n",
       "    </tr>\n",
       "    <tr>\n",
       "      <th>10</th>\n",
       "      <td>2010</td>\n",
       "      <td>29195</td>\n",
       "      <td>46552</td>\n",
       "      <td>31393</td>\n",
       "    </tr>\n",
       "    <tr>\n",
       "      <th>11</th>\n",
       "      <td>2011</td>\n",
       "      <td>39745</td>\n",
       "      <td>52589</td>\n",
       "      <td>33831</td>\n",
       "    </tr>\n",
       "    <tr>\n",
       "      <th>12</th>\n",
       "      <td>2012</td>\n",
       "      <td>48105</td>\n",
       "      <td>68812</td>\n",
       "      <td>31907</td>\n",
       "    </tr>\n",
       "    <tr>\n",
       "      <th>13</th>\n",
       "      <td>2013</td>\n",
       "      <td>33547</td>\n",
       "      <td>69062</td>\n",
       "      <td>33708</td>\n",
       "    </tr>\n",
       "    <tr>\n",
       "      <th>14</th>\n",
       "      <td>2014</td>\n",
       "      <td>28929</td>\n",
       "      <td>68948</td>\n",
       "      <td>29213</td>\n",
       "    </tr>\n",
       "    <tr>\n",
       "      <th>15</th>\n",
       "      <td>2015</td>\n",
       "      <td>42287</td>\n",
       "      <td>64798</td>\n",
       "      <td>46384</td>\n",
       "    </tr>\n",
       "    <tr>\n",
       "      <th>16</th>\n",
       "      <td>2016</td>\n",
       "      <td>39027</td>\n",
       "      <td>68918</td>\n",
       "      <td>34613</td>\n",
       "    </tr>\n",
       "    <tr>\n",
       "      <th>17</th>\n",
       "      <td>2017</td>\n",
       "      <td>38738</td>\n",
       "      <td>70349</td>\n",
       "      <td>37132</td>\n",
       "    </tr>\n",
       "    <tr>\n",
       "      <th>18</th>\n",
       "      <td>2018</td>\n",
       "      <td>41107</td>\n",
       "      <td>72175</td>\n",
       "      <td>37750</td>\n",
       "    </tr>\n",
       "    <tr>\n",
       "      <th>19</th>\n",
       "      <td>2019</td>\n",
       "      <td>30462</td>\n",
       "      <td>74451</td>\n",
       "      <td>27410</td>\n",
       "    </tr>\n",
       "    <tr>\n",
       "      <th>20</th>\n",
       "      <td>2020</td>\n",
       "      <td>38587</td>\n",
       "      <td>81942</td>\n",
       "      <td>30841</td>\n",
       "    </tr>\n",
       "  </tbody>\n",
       "</table>\n",
       "</div>"
      ],
      "text/plain": [
       "    year  housing_starts  housing_under_construction  housing_completions\n",
       "0   2000           38982                       30273                33740\n",
       "1   2001           41017                       34305                37138\n",
       "2   2002           43805                       33094                45170\n",
       "3   2003           45475                       39907                38644\n",
       "4   2004           42115                       42148                39620\n",
       "5   2005           41596                       44305                39296\n",
       "6   2006           37080                       42654                38121\n",
       "7   2007           33293                       45470                30357\n",
       "8   2008           42212                       50823                36258\n",
       "9   2009           25949                       48361                28356\n",
       "10  2010           29195                       46552                31393\n",
       "11  2011           39745                       52589                33831\n",
       "12  2012           48105                       68812                31907\n",
       "13  2013           33547                       69062                33708\n",
       "14  2014           28929                       68948                29213\n",
       "15  2015           42287                       64798                46384\n",
       "16  2016           39027                       68918                34613\n",
       "17  2017           38738                       70349                37132\n",
       "18  2018           41107                       72175                37750\n",
       "19  2019           30462                       74451                27410\n",
       "20  2020           38587                       81942                30841"
      ]
     },
     "execution_count": 128,
     "metadata": {},
     "output_type": "execute_result"
    }
   ],
   "source": [
    "# Reading in start_construction_completion data set\n",
    "start_construction_completion_df = pd.read_csv('data/start_construction_completion.csv')\n",
    "start_construction_completion_df"
   ]
  },
  {
   "cell_type": "markdown",
   "id": "3d490cfa",
   "metadata": {},
   "source": [
    "This is a multi feature data set so let's check the collinearity of features first:"
   ]
  },
  {
   "cell_type": "code",
   "execution_count": 133,
   "id": "abcbfbfd",
   "metadata": {},
   "outputs": [
    {
     "data": {
      "text/html": [
       "<div>\n",
       "<style scoped>\n",
       "    .dataframe tbody tr th:only-of-type {\n",
       "        vertical-align: middle;\n",
       "    }\n",
       "\n",
       "    .dataframe tbody tr th {\n",
       "        vertical-align: top;\n",
       "    }\n",
       "\n",
       "    .dataframe thead th {\n",
       "        text-align: right;\n",
       "    }\n",
       "</style>\n",
       "<table border=\"1\" class=\"dataframe\">\n",
       "  <thead>\n",
       "    <tr style=\"text-align: right;\">\n",
       "      <th></th>\n",
       "      <th>year</th>\n",
       "      <th>housing_starts</th>\n",
       "      <th>housing_under_construction</th>\n",
       "      <th>housing_completions</th>\n",
       "    </tr>\n",
       "  </thead>\n",
       "  <tbody>\n",
       "    <tr>\n",
       "      <th>year</th>\n",
       "      <td>1.000000</td>\n",
       "      <td>-0.259971</td>\n",
       "      <td>0.967901</td>\n",
       "      <td>-0.333668</td>\n",
       "    </tr>\n",
       "    <tr>\n",
       "      <th>housing_starts</th>\n",
       "      <td>-0.259971</td>\n",
       "      <td>1.000000</td>\n",
       "      <td>-0.156693</td>\n",
       "      <td>0.672388</td>\n",
       "    </tr>\n",
       "    <tr>\n",
       "      <th>housing_under_construction</th>\n",
       "      <td>0.967901</td>\n",
       "      <td>-0.156693</td>\n",
       "      <td>1.000000</td>\n",
       "      <td>-0.334794</td>\n",
       "    </tr>\n",
       "    <tr>\n",
       "      <th>housing_completions</th>\n",
       "      <td>-0.333668</td>\n",
       "      <td>0.672388</td>\n",
       "      <td>-0.334794</td>\n",
       "      <td>1.000000</td>\n",
       "    </tr>\n",
       "  </tbody>\n",
       "</table>\n",
       "</div>"
      ],
      "text/plain": [
       "                                year  housing_starts  \\\n",
       "year                        1.000000       -0.259971   \n",
       "housing_starts             -0.259971        1.000000   \n",
       "housing_under_construction  0.967901       -0.156693   \n",
       "housing_completions        -0.333668        0.672388   \n",
       "\n",
       "                            housing_under_construction  housing_completions  \n",
       "year                                          0.967901            -0.333668  \n",
       "housing_starts                               -0.156693             0.672388  \n",
       "housing_under_construction                    1.000000            -0.334794  \n",
       "housing_completions                          -0.334794             1.000000  "
      ]
     },
     "execution_count": 133,
     "metadata": {},
     "output_type": "execute_result"
    }
   ],
   "source": [
    "# Correlation matrix\n",
    "start_construction_completion_df.corr(method='pearson')"
   ]
  },
  {
   "cell_type": "markdown",
   "id": "f2a21f47",
   "metadata": {},
   "source": [
    "Now let's check the trend of each category over time."
   ]
  },
  {
   "cell_type": "code",
   "execution_count": 129,
   "id": "85181ca3",
   "metadata": {},
   "outputs": [
    {
     "data": {
      "text/html": [
       "\n",
       "<div id=\"altair-viz-91780c6e6a214e2f8cd2ff1f1752f43a\"></div>\n",
       "<script type=\"text/javascript\">\n",
       "  (function(spec, embedOpt){\n",
       "    let outputDiv = document.currentScript.previousElementSibling;\n",
       "    if (outputDiv.id !== \"altair-viz-91780c6e6a214e2f8cd2ff1f1752f43a\") {\n",
       "      outputDiv = document.getElementById(\"altair-viz-91780c6e6a214e2f8cd2ff1f1752f43a\");\n",
       "    }\n",
       "    const paths = {\n",
       "      \"vega\": \"https://cdn.jsdelivr.net/npm//vega@5?noext\",\n",
       "      \"vega-lib\": \"https://cdn.jsdelivr.net/npm//vega-lib?noext\",\n",
       "      \"vega-lite\": \"https://cdn.jsdelivr.net/npm//vega-lite@4.8.1?noext\",\n",
       "      \"vega-embed\": \"https://cdn.jsdelivr.net/npm//vega-embed@6?noext\",\n",
       "    };\n",
       "\n",
       "    function loadScript(lib) {\n",
       "      return new Promise(function(resolve, reject) {\n",
       "        var s = document.createElement('script');\n",
       "        s.src = paths[lib];\n",
       "        s.async = true;\n",
       "        s.onload = () => resolve(paths[lib]);\n",
       "        s.onerror = () => reject(`Error loading script: ${paths[lib]}`);\n",
       "        document.getElementsByTagName(\"head\")[0].appendChild(s);\n",
       "      });\n",
       "    }\n",
       "\n",
       "    function showError(err) {\n",
       "      outputDiv.innerHTML = `<div class=\"error\" style=\"color:red;\">${err}</div>`;\n",
       "      throw err;\n",
       "    }\n",
       "\n",
       "    function displayChart(vegaEmbed) {\n",
       "      vegaEmbed(outputDiv, spec, embedOpt)\n",
       "        .catch(err => showError(`Javascript Error: ${err.message}<br>This usually means there's a typo in your chart specification. See the javascript console for the full traceback.`));\n",
       "    }\n",
       "\n",
       "    if(typeof define === \"function\" && define.amd) {\n",
       "      requirejs.config({paths});\n",
       "      require([\"vega-embed\"], displayChart, err => showError(`Error loading script: ${err.message}`));\n",
       "    } else if (typeof vegaEmbed === \"function\") {\n",
       "      displayChart(vegaEmbed);\n",
       "    } else {\n",
       "      loadScript(\"vega\")\n",
       "        .then(() => loadScript(\"vega-lite\"))\n",
       "        .then(() => loadScript(\"vega-embed\"))\n",
       "        .catch(showError)\n",
       "        .then(() => displayChart(vegaEmbed));\n",
       "    }\n",
       "  })({\"config\": {\"view\": {\"continuousWidth\": 400, \"continuousHeight\": 300}}, \"data\": {\"name\": \"data-ea9bc02e8435083a8f7d18583b62ddab\"}, \"mark\": \"line\", \"encoding\": {\"color\": {\"type\": \"nominal\", \"field\": \"variable\", \"title\": \"Type\"}, \"x\": {\"type\": \"nominal\", \"field\": \"year\", \"title\": \"Year\"}, \"y\": {\"type\": \"quantitative\", \"field\": \"value\", \"title\": \"No. of Houses\"}}, \"title\": \"No. of Houses (Housings Started/Housing Under Construction/Housing Completed) vs Time (2000-2020)\", \"width\": 800, \"$schema\": \"https://vega.github.io/schema/vega-lite/v4.8.1.json\", \"datasets\": {\"data-ea9bc02e8435083a8f7d18583b62ddab\": [{\"year\": 2000, \"variable\": \"housing_starts\", \"value\": 38982}, {\"year\": 2001, \"variable\": \"housing_starts\", \"value\": 41017}, {\"year\": 2002, \"variable\": \"housing_starts\", \"value\": 43805}, {\"year\": 2003, \"variable\": \"housing_starts\", \"value\": 45475}, {\"year\": 2004, \"variable\": \"housing_starts\", \"value\": 42115}, {\"year\": 2005, \"variable\": \"housing_starts\", \"value\": 41596}, {\"year\": 2006, \"variable\": \"housing_starts\", \"value\": 37080}, {\"year\": 2007, \"variable\": \"housing_starts\", \"value\": 33293}, {\"year\": 2008, \"variable\": \"housing_starts\", \"value\": 42212}, {\"year\": 2009, \"variable\": \"housing_starts\", \"value\": 25949}, {\"year\": 2010, \"variable\": \"housing_starts\", \"value\": 29195}, {\"year\": 2011, \"variable\": \"housing_starts\", \"value\": 39745}, {\"year\": 2012, \"variable\": \"housing_starts\", \"value\": 48105}, {\"year\": 2013, \"variable\": \"housing_starts\", \"value\": 33547}, {\"year\": 2014, \"variable\": \"housing_starts\", \"value\": 28929}, {\"year\": 2015, \"variable\": \"housing_starts\", \"value\": 42287}, {\"year\": 2016, \"variable\": \"housing_starts\", \"value\": 39027}, {\"year\": 2017, \"variable\": \"housing_starts\", \"value\": 38738}, {\"year\": 2018, \"variable\": \"housing_starts\", \"value\": 41107}, {\"year\": 2019, \"variable\": \"housing_starts\", \"value\": 30462}, {\"year\": 2020, \"variable\": \"housing_starts\", \"value\": 38587}, {\"year\": 2000, \"variable\": \"housing_under_construction\", \"value\": 30273}, {\"year\": 2001, \"variable\": \"housing_under_construction\", \"value\": 34305}, {\"year\": 2002, \"variable\": \"housing_under_construction\", \"value\": 33094}, {\"year\": 2003, \"variable\": \"housing_under_construction\", \"value\": 39907}, {\"year\": 2004, \"variable\": \"housing_under_construction\", \"value\": 42148}, {\"year\": 2005, \"variable\": \"housing_under_construction\", \"value\": 44305}, {\"year\": 2006, \"variable\": \"housing_under_construction\", \"value\": 42654}, {\"year\": 2007, \"variable\": \"housing_under_construction\", \"value\": 45470}, {\"year\": 2008, \"variable\": \"housing_under_construction\", \"value\": 50823}, {\"year\": 2009, \"variable\": \"housing_under_construction\", \"value\": 48361}, {\"year\": 2010, \"variable\": \"housing_under_construction\", \"value\": 46552}, {\"year\": 2011, \"variable\": \"housing_under_construction\", \"value\": 52589}, {\"year\": 2012, \"variable\": \"housing_under_construction\", \"value\": 68812}, {\"year\": 2013, \"variable\": \"housing_under_construction\", \"value\": 69062}, {\"year\": 2014, \"variable\": \"housing_under_construction\", \"value\": 68948}, {\"year\": 2015, \"variable\": \"housing_under_construction\", \"value\": 64798}, {\"year\": 2016, \"variable\": \"housing_under_construction\", \"value\": 68918}, {\"year\": 2017, \"variable\": \"housing_under_construction\", \"value\": 70349}, {\"year\": 2018, \"variable\": \"housing_under_construction\", \"value\": 72175}, {\"year\": 2019, \"variable\": \"housing_under_construction\", \"value\": 74451}, {\"year\": 2020, \"variable\": \"housing_under_construction\", \"value\": 81942}, {\"year\": 2000, \"variable\": \"housing_completions\", \"value\": 33740}, {\"year\": 2001, \"variable\": \"housing_completions\", \"value\": 37138}, {\"year\": 2002, \"variable\": \"housing_completions\", \"value\": 45170}, {\"year\": 2003, \"variable\": \"housing_completions\", \"value\": 38644}, {\"year\": 2004, \"variable\": \"housing_completions\", \"value\": 39620}, {\"year\": 2005, \"variable\": \"housing_completions\", \"value\": 39296}, {\"year\": 2006, \"variable\": \"housing_completions\", \"value\": 38121}, {\"year\": 2007, \"variable\": \"housing_completions\", \"value\": 30357}, {\"year\": 2008, \"variable\": \"housing_completions\", \"value\": 36258}, {\"year\": 2009, \"variable\": \"housing_completions\", \"value\": 28356}, {\"year\": 2010, \"variable\": \"housing_completions\", \"value\": 31393}, {\"year\": 2011, \"variable\": \"housing_completions\", \"value\": 33831}, {\"year\": 2012, \"variable\": \"housing_completions\", \"value\": 31907}, {\"year\": 2013, \"variable\": \"housing_completions\", \"value\": 33708}, {\"year\": 2014, \"variable\": \"housing_completions\", \"value\": 29213}, {\"year\": 2015, \"variable\": \"housing_completions\", \"value\": 46384}, {\"year\": 2016, \"variable\": \"housing_completions\", \"value\": 34613}, {\"year\": 2017, \"variable\": \"housing_completions\", \"value\": 37132}, {\"year\": 2018, \"variable\": \"housing_completions\", \"value\": 37750}, {\"year\": 2019, \"variable\": \"housing_completions\", \"value\": 27410}, {\"year\": 2020, \"variable\": \"housing_completions\", \"value\": 30841}]}}, {\"mode\": \"vega-lite\"});\n",
       "</script>"
      ],
      "text/plain": [
       "alt.Chart(...)"
      ]
     },
     "execution_count": 129,
     "metadata": {},
     "output_type": "execute_result"
    }
   ],
   "source": [
    "# Plotting Number of Houses Started/Under Construction/Completed over time\n",
    "df = start_construction_completion_df.melt('year')\n",
    "alt.Chart(df, title='No. of Houses (Housings Started/Housing Under Construction/Housing Completed) vs Time (2000-2020)').mark_line().encode(\n",
    "    x=alt.X('year:N', title='Year'),\n",
    "    y=alt.Y('value', title='No. of Houses'),\n",
    "    color=alt.Color('variable', title='Type')\n",
    ").properties(width=800)"
   ]
  },
  {
   "cell_type": "markdown",
   "id": "bb6ee265",
   "metadata": {},
   "source": [
    "Based on above results, it is evident that **Number of Houses Under Construction** is highly correlated with time while the other two have remained roughly unchanged in 2000-2020.\n",
    "\n",
    "Therefore it is safe to only take \"housing_under_construction\" variable into account."
   ]
  },
  {
   "cell_type": "code",
   "execution_count": 138,
   "id": "aad56960",
   "metadata": {},
   "outputs": [
    {
     "data": {
      "text/html": [
       "<div>\n",
       "<style scoped>\n",
       "    .dataframe tbody tr th:only-of-type {\n",
       "        vertical-align: middle;\n",
       "    }\n",
       "\n",
       "    .dataframe tbody tr th {\n",
       "        vertical-align: top;\n",
       "    }\n",
       "\n",
       "    .dataframe thead th {\n",
       "        text-align: right;\n",
       "    }\n",
       "</style>\n",
       "<table border=\"1\" class=\"dataframe\">\n",
       "  <thead>\n",
       "    <tr style=\"text-align: right;\">\n",
       "      <th></th>\n",
       "      <th>year</th>\n",
       "      <th>housing_under_construction</th>\n",
       "    </tr>\n",
       "  </thead>\n",
       "  <tbody>\n",
       "    <tr>\n",
       "      <th>0</th>\n",
       "      <td>2000</td>\n",
       "      <td>30273</td>\n",
       "    </tr>\n",
       "    <tr>\n",
       "      <th>1</th>\n",
       "      <td>2001</td>\n",
       "      <td>34305</td>\n",
       "    </tr>\n",
       "    <tr>\n",
       "      <th>2</th>\n",
       "      <td>2002</td>\n",
       "      <td>33094</td>\n",
       "    </tr>\n",
       "    <tr>\n",
       "      <th>3</th>\n",
       "      <td>2003</td>\n",
       "      <td>39907</td>\n",
       "    </tr>\n",
       "    <tr>\n",
       "      <th>4</th>\n",
       "      <td>2004</td>\n",
       "      <td>42148</td>\n",
       "    </tr>\n",
       "  </tbody>\n",
       "</table>\n",
       "</div>"
      ],
      "text/plain": [
       "   year  housing_under_construction\n",
       "0  2000                       30273\n",
       "1  2001                       34305\n",
       "2  2002                       33094\n",
       "3  2003                       39907\n",
       "4  2004                       42148"
      ]
     },
     "execution_count": 138,
     "metadata": {},
     "output_type": "execute_result"
    }
   ],
   "source": [
    "# Using housing_under_construction \n",
    "construction_df = start_construction_completion_df.drop(['housing_starts', 'housing_completions'], axis = 1)\n",
    "construction_df.head()"
   ]
  },
  {
   "cell_type": "markdown",
   "id": "11fa421b",
   "metadata": {},
   "source": [
    "I will do the same as what I did earlier for **Existing/Active** supply to make future predictions for the **Potential/Passive** supply but only for `housing_under_construction`."
   ]
  },
  {
   "cell_type": "code",
   "execution_count": 135,
   "id": "011e3f51",
   "metadata": {},
   "outputs": [
    {
     "data": {
      "text/plain": [
       "Ridge()"
      ]
     },
     "execution_count": 135,
     "metadata": {},
     "output_type": "execute_result"
    }
   ],
   "source": [
    "X_construction = construction_df['year'].values.reshape(-1,1)\n",
    "y_construction = construction_df['housing_under_construction'].values\n",
    "\n",
    "# Splitting the data into train and test splits\n",
    "\n",
    "# Train split\n",
    "X_train_construction = X_construction[:-5] # Splitting the data into 75% training and 25% test\n",
    "y_train_construction = y_construction[:-5]\n",
    "\n",
    "# Test split\n",
    "X_test_construction = X_construction[-5:]\n",
    "y_test_construction= y_construction[-5:]\n",
    "\n",
    "# Modeling Linear Regression with sklearn Ridge()\n",
    "model=Ridge()\n",
    "model.fit(X_train_construction, y_train_construction)"
   ]
  },
  {
   "cell_type": "markdown",
   "id": "caf732df",
   "metadata": {},
   "source": [
    "Let's take a look at the performance of the model."
   ]
  },
  {
   "cell_type": "code",
   "execution_count": 136,
   "id": "554ef245",
   "metadata": {},
   "outputs": [
    {
     "name": "stdout",
     "output_type": "stream",
     "text": [
      "MSE train: 17887127.5, test: 7089538.0\n",
      "R^2 train: 0.9, test: 0.7\n"
     ]
    }
   ],
   "source": [
    "# Let's calculate the MSE and R-Squared for the historical data\n",
    "y_train_construction_pred = model.predict(X_train_construction)\n",
    "y_test_construction_pred = model.predict(X_test_construction)\n",
    "\n",
    "# Mean Squared Error (MSE)\n",
    "print('MSE train: %.1f, test: %.1f' % (mean_squared_error(y_train_construction, y_train_construction_pred),\n",
    "                mean_squared_error(y_test_construction, y_test_construction_pred)))\n",
    "# R-Squared\n",
    "print('R^2 train: %.1f, test: %.1f' % (r2_score(y_train_construction, y_train_construction_pred),\n",
    "                r2_score(y_test_construction, y_test_construction_pred)))"
   ]
  },
  {
   "cell_type": "markdown",
   "id": "754b86c4",
   "metadata": {},
   "source": [
    "And obviously, a relatively better performance of the LR model is expected since we have a total of `21` data points to build a model with."
   ]
  },
  {
   "cell_type": "markdown",
   "id": "fd64e454",
   "metadata": {},
   "source": [
    "Below I have made forecast for the 2021-2046 horizon."
   ]
  },
  {
   "cell_type": "code",
   "execution_count": 139,
   "id": "ec8118df",
   "metadata": {},
   "outputs": [],
   "source": [
    "# Forecasting with Ridge()\n",
    "X_forecast_construction = np.arange(2021, 2047, 1).reshape(-1,1)\n",
    "y_forecast_construction = model.predict(X_forecast_construction)"
   ]
  },
  {
   "cell_type": "markdown",
   "id": "6a119bc7",
   "metadata": {},
   "source": [
    "Let's tabulate the prediction values below:"
   ]
  },
  {
   "cell_type": "code",
   "execution_count": 140,
   "id": "6f08e604",
   "metadata": {},
   "outputs": [
    {
     "data": {
      "text/html": [
       "<div>\n",
       "<style scoped>\n",
       "    .dataframe tbody tr th:only-of-type {\n",
       "        vertical-align: middle;\n",
       "    }\n",
       "\n",
       "    .dataframe tbody tr th {\n",
       "        vertical-align: top;\n",
       "    }\n",
       "\n",
       "    .dataframe thead th {\n",
       "        text-align: right;\n",
       "    }\n",
       "</style>\n",
       "<table border=\"1\" class=\"dataframe\">\n",
       "  <thead>\n",
       "    <tr style=\"text-align: right;\">\n",
       "      <th></th>\n",
       "      <th>year</th>\n",
       "      <th>housing_under_construction</th>\n",
       "    </tr>\n",
       "  </thead>\n",
       "  <tbody>\n",
       "    <tr>\n",
       "      <th>0</th>\n",
       "      <td>2021</td>\n",
       "      <td>83143.0</td>\n",
       "    </tr>\n",
       "    <tr>\n",
       "      <th>1</th>\n",
       "      <td>2022</td>\n",
       "      <td>85681.0</td>\n",
       "    </tr>\n",
       "    <tr>\n",
       "      <th>2</th>\n",
       "      <td>2023</td>\n",
       "      <td>88219.0</td>\n",
       "    </tr>\n",
       "    <tr>\n",
       "      <th>3</th>\n",
       "      <td>2024</td>\n",
       "      <td>90757.0</td>\n",
       "    </tr>\n",
       "    <tr>\n",
       "      <th>4</th>\n",
       "      <td>2025</td>\n",
       "      <td>93294.0</td>\n",
       "    </tr>\n",
       "    <tr>\n",
       "      <th>5</th>\n",
       "      <td>2026</td>\n",
       "      <td>95832.0</td>\n",
       "    </tr>\n",
       "    <tr>\n",
       "      <th>6</th>\n",
       "      <td>2027</td>\n",
       "      <td>98370.0</td>\n",
       "    </tr>\n",
       "    <tr>\n",
       "      <th>7</th>\n",
       "      <td>2028</td>\n",
       "      <td>100908.0</td>\n",
       "    </tr>\n",
       "    <tr>\n",
       "      <th>8</th>\n",
       "      <td>2029</td>\n",
       "      <td>103446.0</td>\n",
       "    </tr>\n",
       "    <tr>\n",
       "      <th>9</th>\n",
       "      <td>2030</td>\n",
       "      <td>105984.0</td>\n",
       "    </tr>\n",
       "    <tr>\n",
       "      <th>10</th>\n",
       "      <td>2031</td>\n",
       "      <td>108522.0</td>\n",
       "    </tr>\n",
       "    <tr>\n",
       "      <th>11</th>\n",
       "      <td>2032</td>\n",
       "      <td>111059.0</td>\n",
       "    </tr>\n",
       "    <tr>\n",
       "      <th>12</th>\n",
       "      <td>2033</td>\n",
       "      <td>113597.0</td>\n",
       "    </tr>\n",
       "    <tr>\n",
       "      <th>13</th>\n",
       "      <td>2034</td>\n",
       "      <td>116135.0</td>\n",
       "    </tr>\n",
       "    <tr>\n",
       "      <th>14</th>\n",
       "      <td>2035</td>\n",
       "      <td>118673.0</td>\n",
       "    </tr>\n",
       "    <tr>\n",
       "      <th>15</th>\n",
       "      <td>2036</td>\n",
       "      <td>121211.0</td>\n",
       "    </tr>\n",
       "    <tr>\n",
       "      <th>16</th>\n",
       "      <td>2037</td>\n",
       "      <td>123749.0</td>\n",
       "    </tr>\n",
       "    <tr>\n",
       "      <th>17</th>\n",
       "      <td>2038</td>\n",
       "      <td>126287.0</td>\n",
       "    </tr>\n",
       "    <tr>\n",
       "      <th>18</th>\n",
       "      <td>2039</td>\n",
       "      <td>128825.0</td>\n",
       "    </tr>\n",
       "    <tr>\n",
       "      <th>19</th>\n",
       "      <td>2040</td>\n",
       "      <td>131362.0</td>\n",
       "    </tr>\n",
       "    <tr>\n",
       "      <th>20</th>\n",
       "      <td>2041</td>\n",
       "      <td>133900.0</td>\n",
       "    </tr>\n",
       "    <tr>\n",
       "      <th>21</th>\n",
       "      <td>2042</td>\n",
       "      <td>136438.0</td>\n",
       "    </tr>\n",
       "    <tr>\n",
       "      <th>22</th>\n",
       "      <td>2043</td>\n",
       "      <td>138976.0</td>\n",
       "    </tr>\n",
       "    <tr>\n",
       "      <th>23</th>\n",
       "      <td>2044</td>\n",
       "      <td>141514.0</td>\n",
       "    </tr>\n",
       "    <tr>\n",
       "      <th>24</th>\n",
       "      <td>2045</td>\n",
       "      <td>144052.0</td>\n",
       "    </tr>\n",
       "    <tr>\n",
       "      <th>25</th>\n",
       "      <td>2046</td>\n",
       "      <td>146590.0</td>\n",
       "    </tr>\n",
       "  </tbody>\n",
       "</table>\n",
       "</div>"
      ],
      "text/plain": [
       "    year  housing_under_construction\n",
       "0   2021                     83143.0\n",
       "1   2022                     85681.0\n",
       "2   2023                     88219.0\n",
       "3   2024                     90757.0\n",
       "4   2025                     93294.0\n",
       "5   2026                     95832.0\n",
       "6   2027                     98370.0\n",
       "7   2028                    100908.0\n",
       "8   2029                    103446.0\n",
       "9   2030                    105984.0\n",
       "10  2031                    108522.0\n",
       "11  2032                    111059.0\n",
       "12  2033                    113597.0\n",
       "13  2034                    116135.0\n",
       "14  2035                    118673.0\n",
       "15  2036                    121211.0\n",
       "16  2037                    123749.0\n",
       "17  2038                    126287.0\n",
       "18  2039                    128825.0\n",
       "19  2040                    131362.0\n",
       "20  2041                    133900.0\n",
       "21  2042                    136438.0\n",
       "22  2043                    138976.0\n",
       "23  2044                    141514.0\n",
       "24  2045                    144052.0\n",
       "25  2046                    146590.0"
      ]
     },
     "execution_count": 140,
     "metadata": {},
     "output_type": "execute_result"
    }
   ],
   "source": [
    "# Creating a data frame for future values of Number of Houses Under Construction\n",
    "forecast_construction_df = pd.DataFrame({'year': X_forecast_construction.flatten(), 'housing_under_construction': np.ceil(y_forecast_construction)},\n",
    "                                        columns=['year', 'housing_under_construction'])\n",
    "forecast_construction_df"
   ]
  },
  {
   "cell_type": "markdown",
   "id": "b567d150",
   "metadata": {},
   "source": [
    "I will now plot both \"historical\" and \"forecast\" data for `housing_under_construction` over time below:"
   ]
  },
  {
   "cell_type": "code",
   "execution_count": 141,
   "id": "070bf6d2",
   "metadata": {},
   "outputs": [
    {
     "data": {
      "text/html": [
       "\n",
       "<div id=\"altair-viz-ace06ada262c400c9c69a6e1c1571f6e\"></div>\n",
       "<script type=\"text/javascript\">\n",
       "  (function(spec, embedOpt){\n",
       "    let outputDiv = document.currentScript.previousElementSibling;\n",
       "    if (outputDiv.id !== \"altair-viz-ace06ada262c400c9c69a6e1c1571f6e\") {\n",
       "      outputDiv = document.getElementById(\"altair-viz-ace06ada262c400c9c69a6e1c1571f6e\");\n",
       "    }\n",
       "    const paths = {\n",
       "      \"vega\": \"https://cdn.jsdelivr.net/npm//vega@5?noext\",\n",
       "      \"vega-lib\": \"https://cdn.jsdelivr.net/npm//vega-lib?noext\",\n",
       "      \"vega-lite\": \"https://cdn.jsdelivr.net/npm//vega-lite@4.8.1?noext\",\n",
       "      \"vega-embed\": \"https://cdn.jsdelivr.net/npm//vega-embed@6?noext\",\n",
       "    };\n",
       "\n",
       "    function loadScript(lib) {\n",
       "      return new Promise(function(resolve, reject) {\n",
       "        var s = document.createElement('script');\n",
       "        s.src = paths[lib];\n",
       "        s.async = true;\n",
       "        s.onload = () => resolve(paths[lib]);\n",
       "        s.onerror = () => reject(`Error loading script: ${paths[lib]}`);\n",
       "        document.getElementsByTagName(\"head\")[0].appendChild(s);\n",
       "      });\n",
       "    }\n",
       "\n",
       "    function showError(err) {\n",
       "      outputDiv.innerHTML = `<div class=\"error\" style=\"color:red;\">${err}</div>`;\n",
       "      throw err;\n",
       "    }\n",
       "\n",
       "    function displayChart(vegaEmbed) {\n",
       "      vegaEmbed(outputDiv, spec, embedOpt)\n",
       "        .catch(err => showError(`Javascript Error: ${err.message}<br>This usually means there's a typo in your chart specification. See the javascript console for the full traceback.`));\n",
       "    }\n",
       "\n",
       "    if(typeof define === \"function\" && define.amd) {\n",
       "      requirejs.config({paths});\n",
       "      require([\"vega-embed\"], displayChart, err => showError(`Error loading script: ${err.message}`));\n",
       "    } else if (typeof vegaEmbed === \"function\") {\n",
       "      displayChart(vegaEmbed);\n",
       "    } else {\n",
       "      loadScript(\"vega\")\n",
       "        .then(() => loadScript(\"vega-lite\"))\n",
       "        .then(() => loadScript(\"vega-embed\"))\n",
       "        .catch(showError)\n",
       "        .then(() => displayChart(vegaEmbed));\n",
       "    }\n",
       "  })({\"config\": {\"view\": {\"continuousWidth\": 400, \"continuousHeight\": 300}}, \"layer\": [{\"data\": {\"name\": \"data-cfe31416b5627859b839d48b35c742b6\"}, \"mark\": \"point\", \"encoding\": {\"x\": {\"type\": \"nominal\", \"field\": \"year\", \"title\": \"Year\"}, \"y\": {\"type\": \"quantitative\", \"field\": \"housing_under_construction\", \"title\": \"No. of Houses Under Construction\"}}, \"title\": \"No. of Houses (Housing Under Construction) vs Time (2000-2046)\"}, {\"data\": {\"name\": \"data-56dbca7ae2961fff821cce938169cb97\"}, \"mark\": {\"type\": \"line\", \"point\": false}, \"encoding\": {\"color\": {\"value\": \"red\"}, \"x\": {\"type\": \"nominal\", \"field\": \"year\", \"title\": \"Year\"}, \"y\": {\"type\": \"quantitative\", \"field\": \"housing_under_construction\", \"title\": \"No. of Houses Under Construction\"}}}, {\"data\": {\"name\": \"data-a144825d71309695d244aa3c66476b1c\"}, \"mark\": {\"type\": \"text\", \"color\": \"steelblue\", \"dx\": 65, \"dy\": -70, \"fontSize\": 10}, \"encoding\": {\"text\": {\"value\": \"Historical Data\"}, \"x\": {\"type\": \"nominal\", \"field\": \"year\", \"title\": \"Year\"}, \"y\": {\"type\": \"quantitative\", \"field\": \"housing_under_construction\", \"title\": \"No. of Houses Under Construction\"}}}, {\"data\": {\"name\": \"data-5a3e844cdfddb033d6d56805f9e48d5f\"}, \"mark\": {\"type\": \"text\", \"color\": \"red\", \"dx\": 0, \"dy\": -30, \"fontSize\": 10}, \"encoding\": {\"text\": {\"value\": \"Forecaste Data\"}, \"x\": {\"type\": \"nominal\", \"field\": \"year\", \"title\": \"Year\"}, \"y\": {\"type\": \"quantitative\", \"field\": \"housing_under_construction\", \"title\": \"No. of Houses Under Construction\"}}}], \"$schema\": \"https://vega.github.io/schema/vega-lite/v4.8.1.json\", \"datasets\": {\"data-cfe31416b5627859b839d48b35c742b6\": [{\"year\": 2000, \"housing_under_construction\": 30273}, {\"year\": 2001, \"housing_under_construction\": 34305}, {\"year\": 2002, \"housing_under_construction\": 33094}, {\"year\": 2003, \"housing_under_construction\": 39907}, {\"year\": 2004, \"housing_under_construction\": 42148}, {\"year\": 2005, \"housing_under_construction\": 44305}, {\"year\": 2006, \"housing_under_construction\": 42654}, {\"year\": 2007, \"housing_under_construction\": 45470}, {\"year\": 2008, \"housing_under_construction\": 50823}, {\"year\": 2009, \"housing_under_construction\": 48361}, {\"year\": 2010, \"housing_under_construction\": 46552}, {\"year\": 2011, \"housing_under_construction\": 52589}, {\"year\": 2012, \"housing_under_construction\": 68812}, {\"year\": 2013, \"housing_under_construction\": 69062}, {\"year\": 2014, \"housing_under_construction\": 68948}, {\"year\": 2015, \"housing_under_construction\": 64798}, {\"year\": 2016, \"housing_under_construction\": 68918}, {\"year\": 2017, \"housing_under_construction\": 70349}, {\"year\": 2018, \"housing_under_construction\": 72175}, {\"year\": 2019, \"housing_under_construction\": 74451}, {\"year\": 2020, \"housing_under_construction\": 81942}], \"data-56dbca7ae2961fff821cce938169cb97\": [{\"year\": 2021, \"housing_under_construction\": 83143.0}, {\"year\": 2022, \"housing_under_construction\": 85681.0}, {\"year\": 2023, \"housing_under_construction\": 88219.0}, {\"year\": 2024, \"housing_under_construction\": 90757.0}, {\"year\": 2025, \"housing_under_construction\": 93294.0}, {\"year\": 2026, \"housing_under_construction\": 95832.0}, {\"year\": 2027, \"housing_under_construction\": 98370.0}, {\"year\": 2028, \"housing_under_construction\": 100908.0}, {\"year\": 2029, \"housing_under_construction\": 103446.0}, {\"year\": 2030, \"housing_under_construction\": 105984.0}, {\"year\": 2031, \"housing_under_construction\": 108522.0}, {\"year\": 2032, \"housing_under_construction\": 111059.0}, {\"year\": 2033, \"housing_under_construction\": 113597.0}, {\"year\": 2034, \"housing_under_construction\": 116135.0}, {\"year\": 2035, \"housing_under_construction\": 118673.0}, {\"year\": 2036, \"housing_under_construction\": 121211.0}, {\"year\": 2037, \"housing_under_construction\": 123749.0}, {\"year\": 2038, \"housing_under_construction\": 126287.0}, {\"year\": 2039, \"housing_under_construction\": 128825.0}, {\"year\": 2040, \"housing_under_construction\": 131362.0}, {\"year\": 2041, \"housing_under_construction\": 133900.0}, {\"year\": 2042, \"housing_under_construction\": 136438.0}, {\"year\": 2043, \"housing_under_construction\": 138976.0}, {\"year\": 2044, \"housing_under_construction\": 141514.0}, {\"year\": 2045, \"housing_under_construction\": 144052.0}, {\"year\": 2046, \"housing_under_construction\": 146590.0}], \"data-a144825d71309695d244aa3c66476b1c\": [{\"year\": 2006, \"housing_under_construction\": 42654}], \"data-5a3e844cdfddb033d6d56805f9e48d5f\": [{\"year\": 2031, \"housing_under_construction\": 108522.0}]}}, {\"mode\": \"vega-lite\"});\n",
       "</script>"
      ],
      "text/plain": [
       "alt.LayerChart(...)"
      ]
     },
     "execution_count": 141,
     "metadata": {},
     "output_type": "execute_result"
    }
   ],
   "source": [
    "# Plotting historical and forecast data for Number of Houses Under Construction\n",
    "historical = alt.Chart(construction_df, title='No. of Houses (Housing Under Construction) vs Time (2000-2046)').mark_point(\n",
    ").encode(\n",
    "    x=alt.X('year:N', title='Year'),\n",
    "    y=alt.Y('housing_under_construction', title='No. of Houses Under Construction')\n",
    ")\n",
    "\n",
    "forecast = alt.Chart(forecast_construction_df).mark_line(\n",
    "    point=False\n",
    ").encode(\n",
    "    x=alt.X('year:N', title='Year'),\n",
    "    y=alt.Y('housing_under_construction', title='No. of Houses Under Construction'),\n",
    "    color=alt.value('red'),     \n",
    ")\n",
    "\n",
    "text1 = alt.Chart(construction_df.query('year == \"2006\"')).mark_text(dx=65, dy=-70, color='steelblue', fontSize=10).encode(\n",
    "        x=alt.X('year:N', title='Year'), \n",
    "        y=alt.Y('housing_under_construction', title='No. of Houses Under Construction'),\n",
    "        text=alt.value('Historical Data')\n",
    ")\n",
    "\n",
    "text2 = alt.Chart(forecast_construction_df.query('year == \"2031\"')).mark_text(dx=0, dy=-30, color='red', fontSize=10).encode(\n",
    "        x=alt.X('year:N', title='Year'),\n",
    "        y=alt.Y('housing_under_construction', title='No. of Houses Under Construction'),\n",
    "        text=alt.value('Forecaste Data')\n",
    ")\n",
    "\n",
    "(historical + forecast + text1 + text2)"
   ]
  },
  {
   "cell_type": "markdown",
   "id": "35d86b3a",
   "metadata": {},
   "source": [
    "From the obtained results, the Number of Houses Under Construction in 2046 is expected to be 146590 which is $\\frac{146590}{2942745} = 0.05$ or 5% of the number of Existing house expected in the same year."
   ]
  },
  {
   "cell_type": "markdown",
   "id": "c2841ec7",
   "metadata": {},
   "source": [
    "#### 3-1-2 Demand"
   ]
  },
  {
   "cell_type": "markdown",
   "id": "538b738e",
   "metadata": {},
   "source": [
    "On the Demand side of the coin, \"Population\" is the key determinant, as discussed in the literature (e.g. [here](https://mpra.ub.uni-muenchen.de/103298/1/MPRA_paper_103298.pdf))."
   ]
  },
  {
   "cell_type": "markdown",
   "id": "294bc588",
   "metadata": {},
   "source": [
    "I have used Canadian census data (available [here](https://www12.statcan.gc.ca/census-recensement/index-eng.cfm)) to get the population for the city of Toronto in each census year."
   ]
  },
  {
   "cell_type": "code",
   "execution_count": 36,
   "id": "727c167e",
   "metadata": {},
   "outputs": [
    {
     "data": {
      "text/html": [
       "<div>\n",
       "<style scoped>\n",
       "    .dataframe tbody tr th:only-of-type {\n",
       "        vertical-align: middle;\n",
       "    }\n",
       "\n",
       "    .dataframe tbody tr th {\n",
       "        vertical-align: top;\n",
       "    }\n",
       "\n",
       "    .dataframe thead th {\n",
       "        text-align: right;\n",
       "    }\n",
       "</style>\n",
       "<table border=\"1\" class=\"dataframe\">\n",
       "  <thead>\n",
       "    <tr style=\"text-align: right;\">\n",
       "      <th></th>\n",
       "      <th>year</th>\n",
       "      <th>population</th>\n",
       "    </tr>\n",
       "  </thead>\n",
       "  <tbody>\n",
       "    <tr>\n",
       "      <th>0</th>\n",
       "      <td>2001</td>\n",
       "      <td>2481494</td>\n",
       "    </tr>\n",
       "    <tr>\n",
       "      <th>1</th>\n",
       "      <td>2006</td>\n",
       "      <td>2503281</td>\n",
       "    </tr>\n",
       "    <tr>\n",
       "      <th>2</th>\n",
       "      <td>2011</td>\n",
       "      <td>2615060</td>\n",
       "    </tr>\n",
       "    <tr>\n",
       "      <th>3</th>\n",
       "      <td>2016</td>\n",
       "      <td>2731571</td>\n",
       "    </tr>\n",
       "  </tbody>\n",
       "</table>\n",
       "</div>"
      ],
      "text/plain": [
       "   year  population\n",
       "0  2001     2481494\n",
       "1  2006     2503281\n",
       "2  2011     2615060\n",
       "3  2016     2731571"
      ]
     },
     "execution_count": 36,
     "metadata": {},
     "output_type": "execute_result"
    }
   ],
   "source": [
    "# Reading in historical_population data set\n",
    "historical_population_df = pd.read_csv('data/historical_population.csv')\n",
    "historical_population_df.head()"
   ]
  },
  {
   "cell_type": "markdown",
   "id": "2357a0d9",
   "metadata": {},
   "source": [
    "For the horizon of 2021-2046, I have not used any modeling to forecast future values and have made use of public data (availabe [here](https://data.ontario.ca/dataset/population-projections))."
   ]
  },
  {
   "cell_type": "code",
   "execution_count": 142,
   "id": "eccf5a32",
   "metadata": {},
   "outputs": [
    {
     "data": {
      "text/html": [
       "<div>\n",
       "<style scoped>\n",
       "    .dataframe tbody tr th:only-of-type {\n",
       "        vertical-align: middle;\n",
       "    }\n",
       "\n",
       "    .dataframe tbody tr th {\n",
       "        vertical-align: top;\n",
       "    }\n",
       "\n",
       "    .dataframe thead th {\n",
       "        text-align: right;\n",
       "    }\n",
       "</style>\n",
       "<table border=\"1\" class=\"dataframe\">\n",
       "  <thead>\n",
       "    <tr style=\"text-align: right;\">\n",
       "      <th></th>\n",
       "      <th>year</th>\n",
       "      <th>population</th>\n",
       "    </tr>\n",
       "  </thead>\n",
       "  <tbody>\n",
       "    <tr>\n",
       "      <th>0</th>\n",
       "      <td>2021</td>\n",
       "      <td>2991445</td>\n",
       "    </tr>\n",
       "    <tr>\n",
       "      <th>1</th>\n",
       "      <td>2022</td>\n",
       "      <td>3061273</td>\n",
       "    </tr>\n",
       "    <tr>\n",
       "      <th>2</th>\n",
       "      <td>2023</td>\n",
       "      <td>3117098</td>\n",
       "    </tr>\n",
       "    <tr>\n",
       "      <th>3</th>\n",
       "      <td>2024</td>\n",
       "      <td>3170184</td>\n",
       "    </tr>\n",
       "    <tr>\n",
       "      <th>4</th>\n",
       "      <td>2025</td>\n",
       "      <td>3220278</td>\n",
       "    </tr>\n",
       "    <tr>\n",
       "      <th>5</th>\n",
       "      <td>2026</td>\n",
       "      <td>3266675</td>\n",
       "    </tr>\n",
       "    <tr>\n",
       "      <th>6</th>\n",
       "      <td>2027</td>\n",
       "      <td>3309348</td>\n",
       "    </tr>\n",
       "    <tr>\n",
       "      <th>7</th>\n",
       "      <td>2028</td>\n",
       "      <td>3348281</td>\n",
       "    </tr>\n",
       "    <tr>\n",
       "      <th>8</th>\n",
       "      <td>2029</td>\n",
       "      <td>3386404</td>\n",
       "    </tr>\n",
       "    <tr>\n",
       "      <th>9</th>\n",
       "      <td>2030</td>\n",
       "      <td>3423729</td>\n",
       "    </tr>\n",
       "    <tr>\n",
       "      <th>10</th>\n",
       "      <td>2031</td>\n",
       "      <td>3460604</td>\n",
       "    </tr>\n",
       "    <tr>\n",
       "      <th>11</th>\n",
       "      <td>2032</td>\n",
       "      <td>3497000</td>\n",
       "    </tr>\n",
       "    <tr>\n",
       "      <th>12</th>\n",
       "      <td>2033</td>\n",
       "      <td>3532885</td>\n",
       "    </tr>\n",
       "    <tr>\n",
       "      <th>13</th>\n",
       "      <td>2034</td>\n",
       "      <td>3568228</td>\n",
       "    </tr>\n",
       "    <tr>\n",
       "      <th>14</th>\n",
       "      <td>2035</td>\n",
       "      <td>3603014</td>\n",
       "    </tr>\n",
       "    <tr>\n",
       "      <th>15</th>\n",
       "      <td>2036</td>\n",
       "      <td>3637226</td>\n",
       "    </tr>\n",
       "    <tr>\n",
       "      <th>16</th>\n",
       "      <td>2037</td>\n",
       "      <td>3670854</td>\n",
       "    </tr>\n",
       "    <tr>\n",
       "      <th>17</th>\n",
       "      <td>2038</td>\n",
       "      <td>3703867</td>\n",
       "    </tr>\n",
       "    <tr>\n",
       "      <th>18</th>\n",
       "      <td>2039</td>\n",
       "      <td>3736270</td>\n",
       "    </tr>\n",
       "    <tr>\n",
       "      <th>19</th>\n",
       "      <td>2040</td>\n",
       "      <td>3768069</td>\n",
       "    </tr>\n",
       "    <tr>\n",
       "      <th>20</th>\n",
       "      <td>2041</td>\n",
       "      <td>3799642</td>\n",
       "    </tr>\n",
       "    <tr>\n",
       "      <th>21</th>\n",
       "      <td>2042</td>\n",
       "      <td>3830995</td>\n",
       "    </tr>\n",
       "    <tr>\n",
       "      <th>22</th>\n",
       "      <td>2043</td>\n",
       "      <td>3862138</td>\n",
       "    </tr>\n",
       "    <tr>\n",
       "      <th>23</th>\n",
       "      <td>2044</td>\n",
       "      <td>3893081</td>\n",
       "    </tr>\n",
       "    <tr>\n",
       "      <th>24</th>\n",
       "      <td>2045</td>\n",
       "      <td>3923827</td>\n",
       "    </tr>\n",
       "    <tr>\n",
       "      <th>25</th>\n",
       "      <td>2046</td>\n",
       "      <td>3954378</td>\n",
       "    </tr>\n",
       "  </tbody>\n",
       "</table>\n",
       "</div>"
      ],
      "text/plain": [
       "    year  population\n",
       "0   2021     2991445\n",
       "1   2022     3061273\n",
       "2   2023     3117098\n",
       "3   2024     3170184\n",
       "4   2025     3220278\n",
       "5   2026     3266675\n",
       "6   2027     3309348\n",
       "7   2028     3348281\n",
       "8   2029     3386404\n",
       "9   2030     3423729\n",
       "10  2031     3460604\n",
       "11  2032     3497000\n",
       "12  2033     3532885\n",
       "13  2034     3568228\n",
       "14  2035     3603014\n",
       "15  2036     3637226\n",
       "16  2037     3670854\n",
       "17  2038     3703867\n",
       "18  2039     3736270\n",
       "19  2040     3768069\n",
       "20  2041     3799642\n",
       "21  2042     3830995\n",
       "22  2043     3862138\n",
       "23  2044     3893081\n",
       "24  2045     3923827\n",
       "25  2046     3954378"
      ]
     },
     "execution_count": 142,
     "metadata": {},
     "output_type": "execute_result"
    }
   ],
   "source": [
    "# Reading in forecast_population data set\n",
    "forecast_population_df = pd.read_csv('data/forecast_population.csv')\n",
    "forecast_population_df"
   ]
  },
  {
   "cell_type": "markdown",
   "id": "b485f85c",
   "metadata": {},
   "source": [
    "Below, I have plotted the population data over time."
   ]
  },
  {
   "cell_type": "code",
   "execution_count": 144,
   "id": "37586656",
   "metadata": {},
   "outputs": [
    {
     "data": {
      "text/html": [
       "\n",
       "<div id=\"altair-viz-da340c25d5ba43e9a1f93724e9247d5e\"></div>\n",
       "<script type=\"text/javascript\">\n",
       "  (function(spec, embedOpt){\n",
       "    let outputDiv = document.currentScript.previousElementSibling;\n",
       "    if (outputDiv.id !== \"altair-viz-da340c25d5ba43e9a1f93724e9247d5e\") {\n",
       "      outputDiv = document.getElementById(\"altair-viz-da340c25d5ba43e9a1f93724e9247d5e\");\n",
       "    }\n",
       "    const paths = {\n",
       "      \"vega\": \"https://cdn.jsdelivr.net/npm//vega@5?noext\",\n",
       "      \"vega-lib\": \"https://cdn.jsdelivr.net/npm//vega-lib?noext\",\n",
       "      \"vega-lite\": \"https://cdn.jsdelivr.net/npm//vega-lite@4.8.1?noext\",\n",
       "      \"vega-embed\": \"https://cdn.jsdelivr.net/npm//vega-embed@6?noext\",\n",
       "    };\n",
       "\n",
       "    function loadScript(lib) {\n",
       "      return new Promise(function(resolve, reject) {\n",
       "        var s = document.createElement('script');\n",
       "        s.src = paths[lib];\n",
       "        s.async = true;\n",
       "        s.onload = () => resolve(paths[lib]);\n",
       "        s.onerror = () => reject(`Error loading script: ${paths[lib]}`);\n",
       "        document.getElementsByTagName(\"head\")[0].appendChild(s);\n",
       "      });\n",
       "    }\n",
       "\n",
       "    function showError(err) {\n",
       "      outputDiv.innerHTML = `<div class=\"error\" style=\"color:red;\">${err}</div>`;\n",
       "      throw err;\n",
       "    }\n",
       "\n",
       "    function displayChart(vegaEmbed) {\n",
       "      vegaEmbed(outputDiv, spec, embedOpt)\n",
       "        .catch(err => showError(`Javascript Error: ${err.message}<br>This usually means there's a typo in your chart specification. See the javascript console for the full traceback.`));\n",
       "    }\n",
       "\n",
       "    if(typeof define === \"function\" && define.amd) {\n",
       "      requirejs.config({paths});\n",
       "      require([\"vega-embed\"], displayChart, err => showError(`Error loading script: ${err.message}`));\n",
       "    } else if (typeof vegaEmbed === \"function\") {\n",
       "      displayChart(vegaEmbed);\n",
       "    } else {\n",
       "      loadScript(\"vega\")\n",
       "        .then(() => loadScript(\"vega-lite\"))\n",
       "        .then(() => loadScript(\"vega-embed\"))\n",
       "        .catch(showError)\n",
       "        .then(() => displayChart(vegaEmbed));\n",
       "    }\n",
       "  })({\"config\": {\"view\": {\"continuousWidth\": 400, \"continuousHeight\": 300}}, \"layer\": [{\"data\": {\"name\": \"data-7987e5a650c6735e86ac1e11a834d38a\"}, \"mark\": \"point\", \"encoding\": {\"x\": {\"type\": \"nominal\", \"field\": \"year\", \"title\": \"Year\"}, \"y\": {\"type\": \"quantitative\", \"field\": \"population\", \"scale\": {\"domain\": [2000000, 4500000]}, \"title\": \"Population\"}}, \"title\": \"Population vs Time (2001-2046)\"}, {\"data\": {\"name\": \"data-736bdf258bf98b365abcc5e4dc13be85\"}, \"mark\": {\"type\": \"line\", \"point\": false}, \"encoding\": {\"color\": {\"value\": \"red\"}, \"x\": {\"type\": \"nominal\", \"field\": \"year\", \"title\": \"Year\"}, \"y\": {\"type\": \"quantitative\", \"field\": \"population\", \"title\": \"Population\"}}}, {\"data\": {\"name\": \"data-15768718c2e508ba77408e45ef085bdb\"}, \"mark\": {\"type\": \"text\", \"color\": \"steelblue\", \"dx\": 15, \"dy\": 20, \"fontSize\": 10}, \"encoding\": {\"text\": {\"value\": \"Historical Data\"}, \"x\": {\"type\": \"nominal\", \"field\": \"year\", \"title\": \"Year\"}, \"y\": {\"type\": \"quantitative\", \"field\": \"population\", \"title\": \"Population\"}}}, {\"data\": {\"name\": \"data-66da30c4c985b6c962e51369c19b3cd4\"}, \"mark\": {\"type\": \"text\", \"color\": \"red\", \"dx\": 0, \"dy\": -20, \"fontSize\": 10}, \"encoding\": {\"text\": {\"value\": \"Forecast Data\"}, \"x\": {\"type\": \"nominal\", \"field\": \"year\", \"title\": \"Year\"}, \"y\": {\"type\": \"quantitative\", \"field\": \"population\", \"title\": \"Population\"}}}], \"$schema\": \"https://vega.github.io/schema/vega-lite/v4.8.1.json\", \"datasets\": {\"data-7987e5a650c6735e86ac1e11a834d38a\": [{\"year\": 2001, \"population\": 2481494}, {\"year\": 2006, \"population\": 2503281}, {\"year\": 2011, \"population\": 2615060}, {\"year\": 2016, \"population\": 2731571}], \"data-736bdf258bf98b365abcc5e4dc13be85\": [{\"year\": 2021, \"population\": 2991445}, {\"year\": 2022, \"population\": 3061273}, {\"year\": 2023, \"population\": 3117098}, {\"year\": 2024, \"population\": 3170184}, {\"year\": 2025, \"population\": 3220278}, {\"year\": 2026, \"population\": 3266675}, {\"year\": 2027, \"population\": 3309348}, {\"year\": 2028, \"population\": 3348281}, {\"year\": 2029, \"population\": 3386404}, {\"year\": 2030, \"population\": 3423729}, {\"year\": 2031, \"population\": 3460604}, {\"year\": 2032, \"population\": 3497000}, {\"year\": 2033, \"population\": 3532885}, {\"year\": 2034, \"population\": 3568228}, {\"year\": 2035, \"population\": 3603014}, {\"year\": 2036, \"population\": 3637226}, {\"year\": 2037, \"population\": 3670854}, {\"year\": 2038, \"population\": 3703867}, {\"year\": 2039, \"population\": 3736270}, {\"year\": 2040, \"population\": 3768069}, {\"year\": 2041, \"population\": 3799642}, {\"year\": 2042, \"population\": 3830995}, {\"year\": 2043, \"population\": 3862138}, {\"year\": 2044, \"population\": 3893081}, {\"year\": 2045, \"population\": 3923827}, {\"year\": 2046, \"population\": 3954378}], \"data-15768718c2e508ba77408e45ef085bdb\": [{\"year\": 2006, \"population\": 2503281}], \"data-66da30c4c985b6c962e51369c19b3cd4\": [{\"year\": 2031, \"population\": 3460604}]}}, {\"mode\": \"vega-lite\"});\n",
       "</script>"
      ],
      "text/plain": [
       "alt.LayerChart(...)"
      ]
     },
     "execution_count": 144,
     "metadata": {},
     "output_type": "execute_result"
    }
   ],
   "source": [
    "# Plotting historical and forecast data for Population\n",
    "historical = alt.Chart(historical_population_df, title='Population vs Time (2001-2046)').mark_point(\n",
    "  \n",
    ").encode(\n",
    "    x=alt.X('year:N', title='Year'),\n",
    "    y=alt.Y('population', title='Population', scale=alt.Scale(domain=[2_000_000, 4_500_000]))\n",
    ")\n",
    "\n",
    "forecast = alt.Chart(forecast_population_df).mark_line(\n",
    "    point=False\n",
    ").encode(\n",
    "    x=alt.X('year:N', title='Year'),\n",
    "    y=alt.Y('population', title='Population'),\n",
    "    color=alt.value('red'),\n",
    ")\n",
    "\n",
    "text1 = alt.Chart(historical_population_df.query('year == \"2006\"')).mark_text(dx=15, dy=20, color='steelblue', fontSize=10).encode(\n",
    "        x=alt.X('year:N', title='Year'), \n",
    "        y=alt.Y('population', title='Population'),\n",
    "        text=alt.value('Historical Data')\n",
    ")\n",
    "\n",
    "text2 = alt.Chart(forecast_population_df.query('year == \"2031\"')).mark_text(dx=0, dy=-20, color='red', fontSize=10).encode(\n",
    "        x=alt.X('year:N', title='Year'),\n",
    "        y=alt.Y('population', title='Population'),\n",
    "        text=alt.value('Forecast Data')\n",
    ")\n",
    "\n",
    "(historical + forecast + text1 + text2)"
   ]
  },
  {
   "cell_type": "markdown",
   "id": "1b56d002",
   "metadata": {},
   "source": [
    "Reviewing the numbers for 2021:\n",
    "- **Number of Existing Houses**: 2,265,870\n",
    "- **Number of Houses Under Construction**: 83,143\n",
    "- **Population**: 2,991,445"
   ]
  },
  {
   "cell_type": "markdown",
   "id": "74c80119",
   "metadata": {},
   "source": [
    "And, "
   ]
  },
  {
   "cell_type": "markdown",
   "id": "e3394dd4",
   "metadata": {},
   "source": [
    "Reviewing the numbers for 2046:\n",
    "- **Number of Existing Houses**: 2,942,745\n",
    "- **Number of Houses Under Construction**: 146,590\n",
    "- **Population**: 3,954,378"
   ]
  },
  {
   "cell_type": "markdown",
   "id": "55ed7ec0",
   "metadata": {},
   "source": [
    "We can see that for both the start and end of future projection, there is a significant gap between **Supply** (`Number of Existing Houses` + `Number of Houses Under Construction`) and **Demand** (`Population`)."
   ]
  },
  {
   "cell_type": "markdown",
   "id": "41f33d3b",
   "metadata": {},
   "source": [
    "To better draw the picture, I have plotted the trend for **Supply** & **Demand** in the 2021-2046 projection time period. However, as observed before, the `Number of Houses Under Construction` makes a small fraction compared to `Number of Existing Houses` and has therefore been excluded in below plot."
   ]
  },
  {
   "cell_type": "code",
   "execution_count": 147,
   "id": "8f5374ac",
   "metadata": {},
   "outputs": [
    {
     "data": {
      "image/png": "[encoded data removed]",
      "text/plain": [
       "<Figure size 720x576 with 2 Axes>"
      ]
     },
     "metadata": {
      "needs_background": "light"
     },
     "output_type": "display_data"
    }
   ],
   "source": [
    "# Plotting Supply & Demand for 2021-2046 projection\n",
    "fig, ax1 = plt.subplots()\n",
    "\n",
    "ax1.plot(forecast_population_df['year'], forecast_population_df['population'], color='red', label=\"Population\")\n",
    "ax1.set_ylim(2_000_000, 4_500_000)\n",
    "ax1.set_xlabel('Year')\n",
    "ax1.set_ylabel('Population (millions)')\n",
    "\n",
    "ax2 = ax1.twinx()\n",
    "ax2.plot(forecast_housing_stock_df['year'], forecast_housing_stock_df['number_of_houses'], color='green', label=\"Number of Houses\")\n",
    "ax2.set_ylim(2_000_000, 4_500_000)\n",
    "ax2.set_ylabel('No. of Houses (millions)')\n",
    "fig.legend(loc=\"upper right\")\n",
    "\n",
    "plt.title('Gap Between Number of Houses (Supply) and Population (Demand)', fontsize=12)\n",
    "plt.rcParams[\"figure.figsize\"] = (10, 8)"
   ]
  },
  {
   "cell_type": "markdown",
   "id": "b03a4fcd",
   "metadata": {},
   "source": [
    "#### 3-2 Lending Policy"
   ]
  },
  {
   "cell_type": "markdown",
   "id": "0d1c1a58",
   "metadata": {},
   "source": [
    "As discussed in this article by [Toronto Times](https://totimes.ca/are-mortgage-rates-driving-up-toronto-housing-prices/), in 2020, the Bank of Canada slashed interest rates to combat COVID economic damage. The article goes on to explore how decreased mortgage rates affect housing prices in Toronto. \n",
    "\n",
    "Below is an excerpt of the article."
   ]
  },
  {
   "cell_type": "markdown",
   "id": "ea994f4a",
   "metadata": {},
   "source": [
    "![TOT_Article](images/tot.png)"
   ]
  },
  {
   "cell_type": "markdown",
   "id": "6ca0942d",
   "metadata": {},
   "source": [
    "In order to investigate the effect of **Mortgage Interest Rate** on **Housing Price** in Toronto, I have made use of historic **Interest Rates** data for the last decade (available [here](https://www150.statcan.gc.ca/t1/tbl1/en/tv.action?pid=3410014501)). "
   ]
  },
  {
   "cell_type": "code",
   "execution_count": 148,
   "id": "8aeb7f06",
   "metadata": {},
   "outputs": [
    {
     "data": {
      "text/html": [
       "<div>\n",
       "<style scoped>\n",
       "    .dataframe tbody tr th:only-of-type {\n",
       "        vertical-align: middle;\n",
       "    }\n",
       "\n",
       "    .dataframe tbody tr th {\n",
       "        vertical-align: top;\n",
       "    }\n",
       "\n",
       "    .dataframe thead th {\n",
       "        text-align: right;\n",
       "    }\n",
       "</style>\n",
       "<table border=\"1\" class=\"dataframe\">\n",
       "  <thead>\n",
       "    <tr style=\"text-align: right;\">\n",
       "      <th></th>\n",
       "      <th>year</th>\n",
       "      <th>interest_rate</th>\n",
       "    </tr>\n",
       "  </thead>\n",
       "  <tbody>\n",
       "    <tr>\n",
       "      <th>0</th>\n",
       "      <td>2010</td>\n",
       "      <td>4.82</td>\n",
       "    </tr>\n",
       "    <tr>\n",
       "      <th>1</th>\n",
       "      <td>2011</td>\n",
       "      <td>4.57</td>\n",
       "    </tr>\n",
       "    <tr>\n",
       "      <th>2</th>\n",
       "      <td>2012</td>\n",
       "      <td>4.24</td>\n",
       "    </tr>\n",
       "    <tr>\n",
       "      <th>3</th>\n",
       "      <td>2013</td>\n",
       "      <td>4.17</td>\n",
       "    </tr>\n",
       "    <tr>\n",
       "      <th>4</th>\n",
       "      <td>2014</td>\n",
       "      <td>4.08</td>\n",
       "    </tr>\n",
       "    <tr>\n",
       "      <th>5</th>\n",
       "      <td>2015</td>\n",
       "      <td>3.78</td>\n",
       "    </tr>\n",
       "    <tr>\n",
       "      <th>6</th>\n",
       "      <td>2016</td>\n",
       "      <td>3.71</td>\n",
       "    </tr>\n",
       "    <tr>\n",
       "      <th>7</th>\n",
       "      <td>2017</td>\n",
       "      <td>3.79</td>\n",
       "    </tr>\n",
       "    <tr>\n",
       "      <th>8</th>\n",
       "      <td>2018</td>\n",
       "      <td>4.37</td>\n",
       "    </tr>\n",
       "    <tr>\n",
       "      <th>9</th>\n",
       "      <td>2019</td>\n",
       "      <td>4.25</td>\n",
       "    </tr>\n",
       "    <tr>\n",
       "      <th>10</th>\n",
       "      <td>2020</td>\n",
       "      <td>3.82</td>\n",
       "    </tr>\n",
       "    <tr>\n",
       "      <th>11</th>\n",
       "      <td>2021</td>\n",
       "      <td>3.24</td>\n",
       "    </tr>\n",
       "  </tbody>\n",
       "</table>\n",
       "</div>"
      ],
      "text/plain": [
       "    year  interest_rate\n",
       "0   2010           4.82\n",
       "1   2011           4.57\n",
       "2   2012           4.24\n",
       "3   2013           4.17\n",
       "4   2014           4.08\n",
       "5   2015           3.78\n",
       "6   2016           3.71\n",
       "7   2017           3.79\n",
       "8   2018           4.37\n",
       "9   2019           4.25\n",
       "10  2020           3.82\n",
       "11  2021           3.24"
      ]
     },
     "execution_count": 148,
     "metadata": {},
     "output_type": "execute_result"
    }
   ],
   "source": [
    "# Reading in interest_rates data set\n",
    "interest_rates_df = pd.read_csv('data/interest_rates.csv')\n",
    "interest_rates_df"
   ]
  },
  {
   "cell_type": "markdown",
   "id": "afb2e5e4",
   "metadata": {},
   "source": [
    "I want to see the trends in `Interest Rate` and `Sales Number` over the same period of time. For this, I will make use of the Number of Sales data from Toronto Regional Real Estate Board for the last decade (available [here](https://trreb.ca/files/market-stats/market-watch/historic.pdf))."
   ]
  },
  {
   "cell_type": "code",
   "execution_count": 149,
   "id": "70a9c40b",
   "metadata": {},
   "outputs": [
    {
     "data": {
      "text/html": [
       "<div>\n",
       "<style scoped>\n",
       "    .dataframe tbody tr th:only-of-type {\n",
       "        vertical-align: middle;\n",
       "    }\n",
       "\n",
       "    .dataframe tbody tr th {\n",
       "        vertical-align: top;\n",
       "    }\n",
       "\n",
       "    .dataframe thead th {\n",
       "        text-align: right;\n",
       "    }\n",
       "</style>\n",
       "<table border=\"1\" class=\"dataframe\">\n",
       "  <thead>\n",
       "    <tr style=\"text-align: right;\">\n",
       "      <th></th>\n",
       "      <th>year</th>\n",
       "      <th>sales_number</th>\n",
       "    </tr>\n",
       "  </thead>\n",
       "  <tbody>\n",
       "    <tr>\n",
       "      <th>0</th>\n",
       "      <td>2010</td>\n",
       "      <td>85860</td>\n",
       "    </tr>\n",
       "    <tr>\n",
       "      <th>1</th>\n",
       "      <td>2011</td>\n",
       "      <td>89110</td>\n",
       "    </tr>\n",
       "    <tr>\n",
       "      <th>2</th>\n",
       "      <td>2012</td>\n",
       "      <td>85488</td>\n",
       "    </tr>\n",
       "    <tr>\n",
       "      <th>3</th>\n",
       "      <td>2013</td>\n",
       "      <td>87047</td>\n",
       "    </tr>\n",
       "    <tr>\n",
       "      <th>4</th>\n",
       "      <td>2014</td>\n",
       "      <td>92776</td>\n",
       "    </tr>\n",
       "    <tr>\n",
       "      <th>5</th>\n",
       "      <td>2015</td>\n",
       "      <td>101214</td>\n",
       "    </tr>\n",
       "    <tr>\n",
       "      <th>6</th>\n",
       "      <td>2016</td>\n",
       "      <td>113041</td>\n",
       "    </tr>\n",
       "    <tr>\n",
       "      <th>7</th>\n",
       "      <td>2017</td>\n",
       "      <td>92342</td>\n",
       "    </tr>\n",
       "    <tr>\n",
       "      <th>8</th>\n",
       "      <td>2018</td>\n",
       "      <td>78020</td>\n",
       "    </tr>\n",
       "    <tr>\n",
       "      <th>9</th>\n",
       "      <td>2019</td>\n",
       "      <td>87750</td>\n",
       "    </tr>\n",
       "    <tr>\n",
       "      <th>10</th>\n",
       "      <td>2020</td>\n",
       "      <td>95067</td>\n",
       "    </tr>\n",
       "  </tbody>\n",
       "</table>\n",
       "</div>"
      ],
      "text/plain": [
       "    year  sales_number\n",
       "0   2010         85860\n",
       "1   2011         89110\n",
       "2   2012         85488\n",
       "3   2013         87047\n",
       "4   2014         92776\n",
       "5   2015        101214\n",
       "6   2016        113041\n",
       "7   2017         92342\n",
       "8   2018         78020\n",
       "9   2019         87750\n",
       "10  2020         95067"
      ]
     },
     "execution_count": 149,
     "metadata": {},
     "output_type": "execute_result"
    }
   ],
   "source": [
    "# Reading in sales data set\n",
    "sales_df = pd.read_csv('data/sales.csv')\n",
    "sales_df"
   ]
  },
  {
   "cell_type": "code",
   "execution_count": 150,
   "id": "8ff2393f",
   "metadata": {},
   "outputs": [
    {
     "data": {
      "image/png": "[encoded data removed]",
      "text/plain": [
       "<Figure size 720x576 with 2 Axes>"
      ]
     },
     "metadata": {
      "needs_background": "light"
     },
     "output_type": "display_data"
    }
   ],
   "source": [
    "# Plotting 5-year Interest Rate & Number of Sales for the recent decade\n",
    "fig, ax1 = plt.subplots()\n",
    "\n",
    "ax1.plot(interest_rates_df['year'], interest_rates_df['interest_rate'], color='red', label=\"5-year Interest Rate\")\n",
    "ax1.set_xlabel('Year')\n",
    "ax1.set_ylabel('Interest Rate')\n",
    "\n",
    "ax2 = ax1.twinx()\n",
    "ax2.plot(sales_df['year'], sales_df['sales_number'], color='green', label=\"Number of Sales\")\n",
    "ax2.set_ylabel('Number of Sales')\n",
    "fig.legend(loc=\"upper right\")\n",
    "\n",
    "plt.title('Interest Rate vs Number of Sales in Recent Decade', fontsize=12)\n",
    "plt.rcParams[\"figure.figsize\"] = (10, 8)"
   ]
  },
  {
   "cell_type": "markdown",
   "id": "d2844901",
   "metadata": {},
   "source": [
    "I can see from above plot that there is a reciprocal relationship between `Interest Rate` and `Number of Sales` in Toronto which is, as mentioned before, corroborated by the literature (e.g. [here](https://www.lowestrates.ca/resource-centre/mortgage/canadian-mortgage-rates-and-housing-market-trends)).\n",
    "\n",
    "It is therefore safe to say that lower `Interest Rate` is a driving force to an active sales market"
   ]
  },
  {
   "cell_type": "markdown",
   "id": "439ce2a5",
   "metadata": {},
   "source": [
    "But how big is this driving force?"
   ]
  },
  {
   "cell_type": "markdown",
   "id": "f1250a9f",
   "metadata": {},
   "source": [
    "[Amira Karimova](https://mpra.ub.uni-muenchen.de/103298/1/MPRA_paper_103298.pdf) proposes a model which explains the relation between the `change in housing stock` and `interest rates` for the province of Ontario.\n",
    "\n",
    "Below is the proposed model:"
   ]
  },
  {
   "cell_type": "markdown",
   "id": "50f2e902",
   "metadata": {},
   "source": [
    "![Model](images/model.png)"
   ]
  },
  {
   "cell_type": "markdown",
   "id": "1e387386",
   "metadata": {},
   "source": [
    "Here, I am only interested in $HS_{t}$ represents the `Housing Stock` and $IR_{t}$ is the `Interest Rate`. We can see the inverse (and relatively small, compared to `Population`) correlation between `Interest Rate` and `Housing Stock`, which is further discussed by the author."
   ]
  },
  {
   "cell_type": "markdown",
   "id": "fb8028f8",
   "metadata": {},
   "source": [
    "It would be safe to extrapolate such a model (obviously with different coefficients) for the city of Toronto."
   ]
  },
  {
   "cell_type": "markdown",
   "id": "def263fd",
   "metadata": {},
   "source": [
    "Below, I have plotted the `Interest Rate` and `Average Sales Price` over the last decade. Results, are in alignment with above findings."
   ]
  },
  {
   "cell_type": "code",
   "execution_count": 112,
   "id": "a39834a8",
   "metadata": {},
   "outputs": [
    {
     "data": {
      "image/png": "[encoded data removed]",
      "text/plain": [
       "<Figure size 720x576 with 2 Axes>"
      ]
     },
     "metadata": {
      "needs_background": "light"
     },
     "output_type": "display_data"
    }
   ],
   "source": [
    "# Plotting 5-year Interest Rate & Average Sales Price for the recent decade\n",
    "fig, ax1 = plt.subplots()\n",
    "\n",
    "ax1.plot(interest_rates_df['year'], interest_rates_df['interest_rate'], color='red', label=\"5-year Interest Rate\")\n",
    "ax1.set_xlabel('Year')\n",
    "ax1.set_ylabel('Interest Rate')\n",
    "\n",
    "ax2 = ax1.twinx()\n",
    "ax2.plot(avg_sales_price_df[(avg_sales_price_df['year'] > 2009)]['year'], avg_sales_price_df[(avg_sales_price_df['year'] > 2009)]['avg_sales_price'], color='blue', label=\"Avg Sales Price\")\n",
    "ax2.set_ylabel('Avg Sales Price')\n",
    "fig.legend(loc=\"upper right\")\n",
    "\n",
    "plt.title('Interest Rate vs Average Sales Price in Recent Decade', fontsize=12)\n",
    "plt.rcParams[\"figure.figsize\"] = (10, 8)"
   ]
  },
  {
   "cell_type": "markdown",
   "id": "e0ccbaf0",
   "metadata": {},
   "source": [
    "As expected, the reciprocal relationship is clearly demonstrated. Where there is fall in `Interest Rate`, there is an increase in **Demand** and consequently `Sales Price` and vice versa.\n",
    "\n",
    "Economic data often show lag in their correlations and this is also typical of above relationship."
   ]
  },
  {
   "cell_type": "markdown",
   "id": "808e8640",
   "metadata": {},
   "source": [
    "#### 3-3 Foreign Ownership"
   ]
  },
  {
   "cell_type": "markdown",
   "id": "7018e3f2",
   "metadata": {},
   "source": [
    "`Foreign Ownership` is another parameter affecting Housing Market of Toronto as discussed [here](https://globalnews.ca/news/7495490/canada-foreign-buyers-tax-affordable-housing/) but this relationship is quite controversial and the data that would demonstrate this relationship is scarce.\n",
    "\n",
    "Below, is a data set (collected in `2017`) I found from Statistics Canada Website (available [here](https://www150.statcan.gc.ca/n1/daily-quotidien/171219/dq171219b-eng.htm)) which shows that the `Foreign Ownership` for the city of Toronto is at **4.9%** only and can be concluded to have an insignificant effect of driving housing prices in the city, however, [Daniel Tencer](https://www.huffpost.com/archive/ca/entry/statistics-canada-got-it-wrong-on-foreign-homebuyers-anti-corruption-group-says_a_23325177) argues that \"*because many properties in Canada (especially Toronto & Vancouver) are owned by shell corporations, it's impossible to say exactly how much Canadian real estate is in the hands of foreign owners*\"."
   ]
  },
  {
   "cell_type": "code",
   "execution_count": 152,
   "id": "09fc041d",
   "metadata": {},
   "outputs": [
    {
     "data": {
      "text/html": [
       "<div>\n",
       "<style scoped>\n",
       "    .dataframe tbody tr th:only-of-type {\n",
       "        vertical-align: middle;\n",
       "    }\n",
       "\n",
       "    .dataframe tbody tr th {\n",
       "        vertical-align: top;\n",
       "    }\n",
       "\n",
       "    .dataframe thead th {\n",
       "        text-align: right;\n",
       "    }\n",
       "</style>\n",
       "<table border=\"1\" class=\"dataframe\">\n",
       "  <thead>\n",
       "    <tr style=\"text-align: right;\">\n",
       "      <th></th>\n",
       "      <th>region</th>\n",
       "      <th>foreign_owenership_rate</th>\n",
       "    </tr>\n",
       "  </thead>\n",
       "  <tbody>\n",
       "    <tr>\n",
       "      <th>0</th>\n",
       "      <td>Toronto CMA</td>\n",
       "      <td>3.4</td>\n",
       "    </tr>\n",
       "    <tr>\n",
       "      <th>1</th>\n",
       "      <td>Toronto – City</td>\n",
       "      <td>4.9</td>\n",
       "    </tr>\n",
       "    <tr>\n",
       "      <th>2</th>\n",
       "      <td>Richmond Hill</td>\n",
       "      <td>3.6</td>\n",
       "    </tr>\n",
       "    <tr>\n",
       "      <th>3</th>\n",
       "      <td>Markham</td>\n",
       "      <td>3.3</td>\n",
       "    </tr>\n",
       "    <tr>\n",
       "      <th>4</th>\n",
       "      <td>Georgina</td>\n",
       "      <td>2.9</td>\n",
       "    </tr>\n",
       "    <tr>\n",
       "      <th>5</th>\n",
       "      <td>Mississauga</td>\n",
       "      <td>2.7</td>\n",
       "    </tr>\n",
       "    <tr>\n",
       "      <th>6</th>\n",
       "      <td>Oakville</td>\n",
       "      <td>2.6</td>\n",
       "    </tr>\n",
       "    <tr>\n",
       "      <th>7</th>\n",
       "      <td>Aurora</td>\n",
       "      <td>2.2</td>\n",
       "    </tr>\n",
       "    <tr>\n",
       "      <th>8</th>\n",
       "      <td>Mono</td>\n",
       "      <td>2.1</td>\n",
       "    </tr>\n",
       "    <tr>\n",
       "      <th>9</th>\n",
       "      <td>King</td>\n",
       "      <td>1.9</td>\n",
       "    </tr>\n",
       "    <tr>\n",
       "      <th>10</th>\n",
       "      <td>Newmarket</td>\n",
       "      <td>1.8</td>\n",
       "    </tr>\n",
       "    <tr>\n",
       "      <th>11</th>\n",
       "      <td>Vaughan</td>\n",
       "      <td>1.8</td>\n",
       "    </tr>\n",
       "    <tr>\n",
       "      <th>12</th>\n",
       "      <td>East Gwillimbury</td>\n",
       "      <td>1.8</td>\n",
       "    </tr>\n",
       "    <tr>\n",
       "      <th>13</th>\n",
       "      <td>Uxbridge</td>\n",
       "      <td>1.8</td>\n",
       "    </tr>\n",
       "    <tr>\n",
       "      <th>14</th>\n",
       "      <td>Whitchurch–Stouffville</td>\n",
       "      <td>1.6</td>\n",
       "    </tr>\n",
       "    <tr>\n",
       "      <th>15</th>\n",
       "      <td>Caledon</td>\n",
       "      <td>1.5</td>\n",
       "    </tr>\n",
       "    <tr>\n",
       "      <th>16</th>\n",
       "      <td>Milton</td>\n",
       "      <td>1.5</td>\n",
       "    </tr>\n",
       "    <tr>\n",
       "      <th>17</th>\n",
       "      <td>Bradford West Gwillimbury</td>\n",
       "      <td>1.4</td>\n",
       "    </tr>\n",
       "    <tr>\n",
       "      <th>18</th>\n",
       "      <td>Brampton</td>\n",
       "      <td>1.4</td>\n",
       "    </tr>\n",
       "    <tr>\n",
       "      <th>19</th>\n",
       "      <td>New Tecumseth</td>\n",
       "      <td>1.3</td>\n",
       "    </tr>\n",
       "    <tr>\n",
       "      <th>20</th>\n",
       "      <td>Ajax</td>\n",
       "      <td>1.3</td>\n",
       "    </tr>\n",
       "    <tr>\n",
       "      <th>21</th>\n",
       "      <td>Pickering</td>\n",
       "      <td>1.3</td>\n",
       "    </tr>\n",
       "    <tr>\n",
       "      <th>22</th>\n",
       "      <td>Halton Hills</td>\n",
       "      <td>1.1</td>\n",
       "    </tr>\n",
       "    <tr>\n",
       "      <th>23</th>\n",
       "      <td>Orangeville</td>\n",
       "      <td>1.1</td>\n",
       "    </tr>\n",
       "  </tbody>\n",
       "</table>\n",
       "</div>"
      ],
      "text/plain": [
       "                       region  foreign_owenership_rate\n",
       "0                 Toronto CMA                      3.4\n",
       "1              Toronto – City                      4.9\n",
       "2               Richmond Hill                      3.6\n",
       "3                     Markham                      3.3\n",
       "4                    Georgina                      2.9\n",
       "5                 Mississauga                      2.7\n",
       "6                    Oakville                      2.6\n",
       "7                      Aurora                      2.2\n",
       "8                        Mono                      2.1\n",
       "9                        King                      1.9\n",
       "10                  Newmarket                      1.8\n",
       "11                    Vaughan                      1.8\n",
       "12           East Gwillimbury                      1.8\n",
       "13                   Uxbridge                      1.8\n",
       "14     Whitchurch–Stouffville                      1.6\n",
       "15                    Caledon                      1.5\n",
       "16                     Milton                      1.5\n",
       "17  Bradford West Gwillimbury                      1.4\n",
       "18                   Brampton                      1.4\n",
       "19              New Tecumseth                      1.3\n",
       "20                       Ajax                      1.3\n",
       "21                  Pickering                      1.3\n",
       "22               Halton Hills                      1.1\n",
       "23                Orangeville                      1.1"
      ]
     },
     "execution_count": 152,
     "metadata": {},
     "output_type": "execute_result"
    }
   ],
   "source": [
    "# Reading in foreign_owenrship data set\n",
    "foreign_ownership_df = pd.read_csv('data/foreign_owenrship.csv', encoding='cp1252')\n",
    "foreign_ownership_df"
   ]
  },
  {
   "cell_type": "markdown",
   "id": "8a2f2fbc",
   "metadata": {},
   "source": [
    "### 4- Conclusions and Recommendations"
   ]
  },
  {
   "cell_type": "markdown",
   "id": "9a5a8d07",
   "metadata": {},
   "source": [
    "#### 4-1 Conclusions"
   ]
  },
  {
   "cell_type": "markdown",
   "id": "74b4ee05",
   "metadata": {},
   "source": [
    "In this analysis, I made an attempt to answer the below Driving Question:\n",
    "\n",
    "\"*Why are houses so expensive in Toronto?*\""
   ]
  },
  {
   "cell_type": "markdown",
   "id": "9d708499",
   "metadata": {},
   "source": [
    "To do so, I started to take a look at the current Housing Market in Toronto using `Unaffordability Ratio` as a proxy.\n",
    "\n",
    "Next, I investigated the effect of 3 key parameters namely:\n",
    "- Supply/Demand\n",
    "- Lending Policy\n",
    "- Foreign Ownership"
   ]
  },
  {
   "cell_type": "markdown",
   "id": "bb2cffd6",
   "metadata": {},
   "source": [
    "and conluded:"
   ]
  },
  {
   "cell_type": "markdown",
   "id": "804afcf5",
   "metadata": {},
   "source": [
    "- 1- The balance between `Supply` and `Demand` is the main driver of `Housing Prices` in Toronto and other parameters basically affect the market through this balance. Results show that there is a huge gap between Supply (mainly `Number of Existing Houses`) and Demand (mainly `Population`). This is not only a historical trend but also a trend to be expected in at least the next **2-3** decades."
   ]
  },
  {
   "cell_type": "markdown",
   "id": "3acd14a9",
   "metadata": {},
   "source": [
    "- 2- The recent decreasing rate in `Lending Rates` (amplified by the current economic situation around pandemic) has facilitated the purchasing process and has consequently increased the Demand. The data show that this was concurred with an increase in `Housing Prices`. However, this correlation is week compared to `Population`."
   ]
  },
  {
   "cell_type": "markdown",
   "id": "98b56ae4",
   "metadata": {},
   "source": [
    "- 3- Foreign Ownership does affect the Housing Prices in Toronto as witnessed by the literature, however there are not enough data on this parameter to make data-driven conclusions."
   ]
  },
  {
   "cell_type": "markdown",
   "id": "b52fc189",
   "metadata": {},
   "source": [
    "#### 4-2 Recommendation"
   ]
  },
  {
   "cell_type": "markdown",
   "id": "9fda5b54",
   "metadata": {},
   "source": [
    "As requested in the assignment, I have come up with the following policy proposals that I believe are most likely to reduce housing prices by the largest magnitude:"
   ]
  },
  {
   "cell_type": "markdown",
   "id": "dc6907c2",
   "metadata": {},
   "source": [
    "- 1- Legislations should be passed to help fill the gap between Supply and Demand in the housing market of city of Toronto. This can be in form of policies that would contribute to facilitating the construction process. Examples are:\n",
    "> - Incentives for constructors/contractors that would complete construction projects on or ahead of schedule\n",
    "> - Strict rules assuring construction is on schedule and if behind schedule penalty measures are in place\n",
    "> - Decreasing constructions costs and related tax rates"
   ]
  },
  {
   "cell_type": "markdown",
   "id": "1b4fd3e8",
   "metadata": {},
   "source": [
    "- 2- Since many properties in Toronto are owned by **[shell corporations](https://en.wikipedia.org/wiki/Shell_corporation)** policies should be in place to:\n",
    "> - To make the beneficial owners of shell companies public\n",
    ">- To tax foreign homeowners who live outside of Canada as part of a plan to lower housing prices"
   ]
  },
  {
   "cell_type": "markdown",
   "id": "102da1e9",
   "metadata": {},
   "source": [
    "### This is the end of the report."
   ]
  },
  {
   "cell_type": "markdown",
   "id": "8dbbc445",
   "metadata": {},
   "source": [
    "### Thanks again Validere team! 👍"
   ]
  }
 ],
 "metadata": {
  "kernelspec": {
   "display_name": "Python [conda env:571]",
   "language": "python",
   "name": "conda-env-571-py"
  },
  "language_info": {
   "codemirror_mode": {
    "name": "ipython",
    "version": 3
   },
   "file_extension": ".py",
   "mimetype": "text/x-python",
   "name": "python",
   "nbconvert_exporter": "python",
   "pygments_lexer": "ipython3",
   "version": "3.8.6"
  }
 },
 "nbformat": 4,
 "nbformat_minor": 5
}
